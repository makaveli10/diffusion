{
 "cells": [
  {
   "cell_type": "code",
   "execution_count": null,
   "id": "85380b90",
   "metadata": {},
   "outputs": [],
   "source": [
    "%load_ext autoreload\n",
    "%autoreload 2\n",
    "from matplotlib import pylab\n",
    "from smlai import *"
   ]
  },
  {
   "cell_type": "markdown",
   "id": "0aecefc6",
   "metadata": {},
   "source": [
    "# Deliberate\n",
    "\n",
    "This model provides you the ability to create anything you want. The more power of prompt knowledges you have, the better results you'll get. It basically means that you'll never get a perfect result with just a few words. You have to fill out your prompt line extremely detailed.\n"
   ]
  },
  {
   "cell_type": "markdown",
   "id": "4efb26c1",
   "metadata": {},
   "source": [
    "## Load Model\n",
    "\n",
    "- Deliberate-v2 on civit-ai - [deliberate-v2](https://civitai.com/models/4823/deliberate)\n",
    "- We download the same model from [huggingface-hub](https://huggingface.co/stablediffusionapi/deliberate-v2)"
   ]
  },
  {
   "cell_type": "code",
   "execution_count": null,
   "id": "1ccbbefa",
   "metadata": {},
   "outputs": [],
   "source": [
    "model = load_model(\"stablediffusionapi/deliberate-v2\")"
   ]
  },
  {
   "cell_type": "markdown",
   "id": "5333e9ec",
   "metadata": {},
   "source": [
    "## Generate images"
   ]
  },
  {
   "cell_type": "markdown",
   "id": "71548e83",
   "metadata": {},
   "source": [
    "**A cute kitten**"
   ]
  },
  {
   "cell_type": "code",
   "execution_count": null,
   "id": "29bbcbea",
   "metadata": {},
   "outputs": [],
   "source": [
    "generate(\n",
    "    model,\n",
    "    prompt=\"a cute kitten with intricate details\",\n",
    "    N=3)"
   ]
  },
  {
   "cell_type": "code",
   "execution_count": null,
   "id": "139fc518",
   "metadata": {},
   "outputs": [],
   "source": [
    "# Adding more details to the prompt\n",
    "generate(\n",
    "    model,\n",
    "    prompt=\"a cute kitten with intricate details, hyper detailed, cyborg style, hdr, vignette, \\\n",
    "        centered, cinematic shot\",\n",
    "    N=3)"
   ]
  },
  {
   "cell_type": "code",
   "execution_count": null,
   "id": "330d12fb",
   "metadata": {},
   "outputs": [],
   "source": [
    "# with negative prompt to remove artifacts\n",
    "generate(\n",
    "    model,\n",
    "    prompt=\"a cute kitten with intricate details, hyper detailed, cyborg style, hdr, vignette, \\\n",
    "        centered, cinematic shot\",\n",
    "    negative_prompt=\"deformed, distorted, disfigured, poorly drawn, bad anatomy, wrong anatomy, extra limb, \\\n",
    "        mutated, ugly, disgusting, blurry, amputation\",\n",
    "    N=3)"
   ]
  },
  {
   "cell_type": "code",
   "execution_count": null,
   "id": "7e07f656",
   "metadata": {},
   "outputs": [],
   "source": [
    "# upscale the image if you want a higher resolution image\n",
    "generate(\n",
    "    model,\n",
    "    prompt=\"a cute kitten with intricate details, hyper detailed, cyborg style, hdr, vignette, \\\n",
    "        centered, cinematic shot\",\n",
    "    negative_prompt=\"deformed, distorted, disfigured, poorly drawn, bad anatomy, wrong anatomy, extra limb, \\\n",
    "        mutated, ugly, disgusting, blurry, amputation\",\n",
    "    N=3,\n",
    "    upscale=True)"
   ]
  },
  {
   "cell_type": "markdown",
   "id": "b6640c7e",
   "metadata": {},
   "source": [
    "**A farmer with a medical mask**"
   ]
  },
  {
   "cell_type": "code",
   "execution_count": null,
   "id": "496d8e75",
   "metadata": {},
   "outputs": [],
   "source": [
    "generate(\n",
    "    model,\n",
    "    prompt=\"a 40 year old farmer with a medical mask\",\n",
    "    N=3)"
   ]
  },
  {
   "cell_type": "code",
   "execution_count": null,
   "id": "842ad456",
   "metadata": {},
   "outputs": [],
   "source": [
    "# a more detailed prompt\n",
    "generate(\n",
    "    model,\n",
    "    prompt=\"a 40 year old farmer with a medical mask, farms, crafted, meticulous, magnificent, \\\n",
    "        maximum details, extremely hyper aesthetic, victorian era, cinematography, intricately detailed\",\n",
    "    N=3)"
   ]
  },
  {
   "cell_type": "code",
   "execution_count": null,
   "id": "c2525097",
   "metadata": {},
   "outputs": [],
   "source": [
    "# with negative prompt to remove artifacts\n",
    "generate(\n",
    "    model,\n",
    "    prompt=\"a 40 year old farmer with a medical mask, farms, crafted, meticulous, magnificent, \\\n",
    "        maximum details, extremely hyper aesthetic, victorian era, cinematography, intricately detailed\",\n",
    "    negative_prompt=\"deformed, distorted, disfigured, bad anatomy, poorly drawn face, mutated, \\\n",
    "        ugly, disgusting, poorly drawn hands, blurry\",\n",
    "    N=3)"
   ]
  },
  {
   "cell_type": "markdown",
   "id": "47ddb7d2",
   "metadata": {},
   "source": [
    "**A milkman**"
   ]
  },
  {
   "cell_type": "code",
   "execution_count": null,
   "id": "c742645e",
   "metadata": {},
   "outputs": [],
   "source": [
    "generate(\n",
    "    model,\n",
    "    prompt=\"a 42 yo milkman with a hat, smiling\",\n",
    "    N=3)"
   ]
  },
  {
   "cell_type": "code",
   "execution_count": null,
   "id": "d6ec1e0c",
   "metadata": {},
   "outputs": [],
   "source": [
    "# adding more details to the prompt\n",
    "generate(\n",
    "    model,\n",
    "    prompt=\"a 42 yo milkman with a hat and red apron, smiling, artstation, epic, realistic, hdr, \\\n",
    "    dark shot, intricate details, by greg rutkowski, intricate, cinematic, detailed\",\n",
    "    N=3)"
   ]
  },
  {
   "cell_type": "code",
   "execution_count": null,
   "id": "e6a35082",
   "metadata": {},
   "outputs": [],
   "source": [
    "# with negative prompt to remove artifacts\n",
    "generate(\n",
    "    model,\n",
    "    prompt=\"a 42 yo milkman with a hat and red apron, smiling, artstation, epic, realistic, hdr, \\\n",
    "    dark shot, intricate details, by greg rutkowski, intricate, cinematic, detailed\",\n",
    "    negative_prompt=\"deformed, distorted, disfigured, poorly drawn, bad anatomy, wrong anatomy, \\\n",
    "        extra limb, missing limb, floating limbs, cartoon, 3d, ugly, disgusting, blurry\",\n",
    "    N=3)"
   ]
  },
  {
   "cell_type": "code",
   "execution_count": null,
   "id": "32819962",
   "metadata": {},
   "outputs": [],
   "source": [
    "# upscale image\n",
    "generate(\n",
    "    model,\n",
    "    prompt=\"a 42 yo milkman with a hat and red apron, smiling, artstation, epic, realistic, hdr, \\\n",
    "    dark shot, intricate details, by greg rutkowski, intricate, cinematic, detailed\",\n",
    "    negative_prompt=\"deformed, distorted, disfigured, poorly drawn, bad anatomy, wrong anatomy, \\\n",
    "        extra limb, missing limb, floating limbs, cartoon, 3d, ugly, disgusting, blurry\",\n",
    "    N=3,\n",
    "    upscale=True)"
   ]
  },
  {
   "cell_type": "markdown",
   "id": "315ec3f7",
   "metadata": {},
   "source": [
    "**The end of the world**"
   ]
  },
  {
   "cell_type": "code",
   "execution_count": null,
   "id": "83deb354",
   "metadata": {},
   "outputs": [],
   "source": [
    "generate(\n",
    "    model,\n",
    "    prompt=\"new york, end of the world, apocalypse, epic realistic, snowing, night\",\n",
    "    N=3)"
   ]
  },
  {
   "cell_type": "code",
   "execution_count": null,
   "id": "6d168fd3",
   "metadata": {},
   "outputs": [],
   "source": [
    "# with more detailed prompt\n",
    "generate(\n",
    "    model,\n",
    "    prompt=\"new york city, end of the world, apocalypse, epic realistic, snowing, night, \\\n",
    "        abandoned, neutral colors, night, screen space, intricate details, hyperdetailed, cinematic shot\",\n",
    "    N=3)"
   ]
  },
  {
   "cell_type": "code",
   "execution_count": null,
   "id": "eb3ea0d8",
   "metadata": {},
   "outputs": [],
   "source": [
    "# upscale image\n",
    "generate(\n",
    "    model,\n",
    "    prompt=\"new york city, end of the world, apocalypse, epic realistic, snowing, night, \\\n",
    "        abandoned, neutral colors, night, screen space, intricate details, hyperdetailed, cinematic shot\",\n",
    "    N=3,\n",
    "    upscale=True)"
   ]
  },
  {
   "cell_type": "markdown",
   "id": "8d7283a7",
   "metadata": {},
   "source": [
    "**A Goth building**"
   ]
  },
  {
   "cell_type": "code",
   "execution_count": null,
   "id": "b67c4a46",
   "metadata": {},
   "outputs": [],
   "source": [
    "generate(\n",
    "    model, \n",
    "    prompt=\"building, gothic in gothbuilding style, goth, horror, creepy, no humans, tree, scenery, \\\n",
    "        outdoors, fog, window, sky, forest, nature, cloud, house, bare tree\",\n",
    "    N=3)"
   ]
  },
  {
   "cell_type": "markdown",
   "id": "ba6c93de",
   "metadata": {},
   "source": [
    "## Textual Inversion\n",
    "### Load a textual inversion model\n",
    "Textual inversion involves training the Stable Diffusion model to better recreate a set of image's distinct features when generating from the same model by functionally creating a brand new word token for the model.\n",
    "\n",
    "Let's Use a [Goth Building textual inversion model](https://civitai.com/models/27912/goth-building-style-lord-of-the-rings-style-house-castle-or-landscape-gothbuilding?modelVersionId=33450) from civit ai\n",
    "\n",
    "- We just need to copy the download link of the model checkpoint.\n",
    "- Load textual inversion model with ```load_civit_textual_inversion_checkpoint(base_model, ckpt_link, ckpt_name)```"
   ]
  },
  {
   "cell_type": "code",
   "execution_count": null,
   "id": "bd46af4f",
   "metadata": {},
   "outputs": [],
   "source": [
    "ckpt_link = \"https://civitai.com/api/download/models/33450\"\n",
    "ckpt_name = \"gothbuilding\"\n",
    "model = load_civit_textual_inversion_checkpoint(model, ckpt_link, ckpt_name)"
   ]
  },
  {
   "cell_type": "code",
   "execution_count": null,
   "id": "5ef69769",
   "metadata": {},
   "outputs": [],
   "source": [
    "generate(\n",
    "    model,\n",
    "    \"gothbuilding style castle\",\n",
    "    N=3)"
   ]
  },
  {
   "cell_type": "code",
   "execution_count": null,
   "id": "33ce7b78",
   "metadata": {},
   "outputs": [],
   "source": [
    "generate(\n",
    "    model, \n",
    "    prompt=\"building, gothic in gothbuilding style, goth, horror, creepy, no humans, tree, scenery, outdoors, \\\n",
    "        fog, window, sky, forest, nature, cloud, house, bare tree\",\n",
    "    N=3)"
   ]
  },
  {
   "cell_type": "code",
   "execution_count": null,
   "id": "f7e12360",
   "metadata": {},
   "outputs": [],
   "source": [
    "# with negative prompt to remove artifacts\n",
    "generate(\n",
    "    model, \n",
    "    prompt=\"building, gothic in gothbuilding style, goth, horror, creepy, no humans, tree, scenery, outdoors, \\\n",
    "        fog, window, sky, forest, nature, cloud, house, bare tree\",\n",
    "    negative_prompt=\"text, error, cropped, worst quality, low quality, normal quality, jpeg artifacts, signature, \\\n",
    "        watermark, username, blurry, out of focus, censorship, [out of frame], artist name, sketch, comic\",\n",
    "    N=3)"
   ]
  },
  {
   "cell_type": "code",
   "execution_count": null,
   "id": "dfe83d1e",
   "metadata": {},
   "outputs": [],
   "source": [
    "# upscale images\n",
    "generate(\n",
    "    model, \n",
    "    prompt=\"building, gothic in gothbuilding style, goth, horror, creepy, no humans, tree, scenery, outdoors, \\\n",
    "        fog, window, sky, forest, nature, cloud, house, bare tree\",\n",
    "    negative_prompt=\"text, error, cropped, worst quality, low quality, normal quality, jpeg artifacts, signature, \\\n",
    "        watermark, username, blurry, out of focus, censorship, [out of frame], artist name, sketch, comic\",\n",
    "    N=3,\n",
    "    upscale=True)"
   ]
  },
  {
   "cell_type": "markdown",
   "id": "ef89cc59",
   "metadata": {},
   "source": [
    "## Like Hobbit House? Let's paint some"
   ]
  },
  {
   "cell_type": "code",
   "execution_count": null,
   "id": "18660bd8",
   "metadata": {},
   "outputs": [],
   "source": [
    "generate(\n",
    "    model,\n",
    "    prompt=\"one hobbithouse in the middle of the forest\",\n",
    "    N=3)"
   ]
  },
  {
   "cell_type": "markdown",
   "id": "b45e0317",
   "metadata": {},
   "source": [
    "Doesnt look like a hobbit house, lets add a textual inversion model to create better hobbit houses."
   ]
  },
  {
   "cell_type": "markdown",
   "id": "f1436735",
   "metadata": {},
   "source": [
    "## Add Another textual inversion model for hobbit houses\n",
    "- Load [hobbit-house] textual inversion model from civit-ai\n",
    "- Copy download link and load."
   ]
  },
  {
   "cell_type": "code",
   "execution_count": null,
   "id": "56e7d62b",
   "metadata": {},
   "outputs": [],
   "source": [
    "ckpt_link = 'https://civitai.com/api/download/models/29758'\n",
    "ckpt_name = 'hobbithouse'\n",
    "model = load_civit_textual_inversion_checkpoint(model, ckpt_link, ckpt_name)"
   ]
  },
  {
   "cell_type": "code",
   "execution_count": null,
   "id": "0995eec2",
   "metadata": {},
   "outputs": [],
   "source": [
    "generate(\n",
    "    model,\n",
    "    prompt=\"one hobbithouse in the middle of the forest\",\n",
    "    N=3)"
   ]
  },
  {
   "cell_type": "code",
   "execution_count": null,
   "id": "0afc76bc",
   "metadata": {},
   "outputs": [],
   "source": [
    "# detailed prompt\n",
    "generate(\n",
    "    model,\n",
    "    prompt=\"hobbithouse in the middle of a forest with a round door and round windows on its side and \\\n",
    "        a pathway leading to it, at sunset, cinematic, 8k,  home design, forest cabin, magical, no humans, \\\n",
    "        scenery, tree, outdoors, stairs, dark aesthetic, cottage, fairytale\",\n",
    "    N=3)"
   ]
  },
  {
   "cell_type": "code",
   "execution_count": null,
   "id": "350a19d5",
   "metadata": {},
   "outputs": [],
   "source": [
    "# with negative prompt\n",
    "generate(\n",
    "    model,\n",
    "    prompt=\"hobbithouse in the middle of a forest with a round door and round windows on its side and \\\n",
    "        a pathway leading to it, at sunset, cinematic, 8k,  home design, forest cabin, magical, no humans, \\\n",
    "        scenery, tree, outdoors, stairs, dark aesthetic, cottage, fairytale\",\n",
    "    negative_prompt=\"ugly, duplication, deformed, out of frame, grainy, blurry, text, watermark, bad art, worst quality, \\\n",
    "        low quality, medium quality, deleted, lowres, comic\",\n",
    "    N=3)"
   ]
  },
  {
   "cell_type": "markdown",
   "id": "6db6136d",
   "metadata": {},
   "source": [
    "## Generate your own images\n",
    "- Start with a simple prompt\n",
    "- Improvise and add more details\n",
    "- Add a negative prompt(from the above examples) to remove artifacts and improve overall quality.\n",
    "- Set ```upscale=True``` once you have your final results from the diffusion model, to get higher resolution results."
   ]
  },
  {
   "cell_type": "code",
   "execution_count": null,
   "id": "5d2f7483",
   "metadata": {},
   "outputs": [],
   "source": [
    "# add your prompt\n",
    "generate(\n",
    "    model,\n",
    "    prompt=\"\",\n",
    "    N=3,\n",
    "    upscale=False)"
   ]
  },
  {
   "cell_type": "code",
   "execution_count": null,
   "id": "36faf740",
   "metadata": {},
   "outputs": [],
   "source": []
  }
 ],
 "metadata": {
  "kernelspec": {
   "display_name": "diffusers",
   "language": "python",
   "name": "diffusers"
  },
  "language_info": {
   "codemirror_mode": {
    "name": "ipython",
    "version": 3
   },
   "file_extension": ".py",
   "mimetype": "text/x-python",
   "name": "python",
   "nbconvert_exporter": "python",
   "pygments_lexer": "ipython3",
   "version": "3.9.5"
  }
 },
 "nbformat": 4,
 "nbformat_minor": 5
}
