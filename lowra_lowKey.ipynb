{
 "cells": [
  {
   "cell_type": "code",
   "execution_count": null,
   "id": "bcdae12c",
   "metadata": {},
   "outputs": [],
   "source": [
    "%load_ext autoreload\n",
    "%autoreload 2\n",
    "from matplotlib import pylab\n",
    "from smlai import *"
   ]
  },
  {
   "cell_type": "markdown",
   "id": "aa552127",
   "metadata": {},
   "source": [
    "# LowRA\n",
    "\n",
    "This model generates ```low key``` images. Generates character where they have their own style in terms of lighting and overall atmosphere. It is an amazing model to generate low light images.\n",
    "\n",
    "## Quick tips\n",
    "- Your start point (weight) is 0.6 ➜ <lowra_v10:06>\n",
    "\n",
    "- Looking for more darkness? Just add dark theme to your prompt\n",
    "\n",
    "### Load model\n",
    "Loading the ```lora``` checkpoint from civit-ai [LowRA model](https://civitai.com/models/48139/lowra?modelVersionId=52753), this finetuned checkpoint uses ```stablediffusionapi/deliberate-v2``` as the base model which is mentioned on the civit ai model information(in the above link). So, let's convert this checkpoint to diffusers and generate some cool ```low key``` images:\n",
    "\n",
    "- Download the ```lora``` checkpoint from civit-ai.\n",
    "- convert civit-ai ```lora``` checkpoint to diffusers."
   ]
  },
  {
   "cell_type": "code",
   "execution_count": null,
   "id": "ef9d34d7",
   "metadata": {},
   "outputs": [],
   "source": [
    "ckpt_link = 'https://civitai.com/api/download/models/52753'\n",
    "# converting the checkpoint to diffusers\n",
    "model = convert_civit_lora_safetensors_to_diffusers(\n",
    "    'stablediffusionapi/deliberate-v2',  # base model, a huggingface model\n",
    "    ckpt_link,                           # lora checkpoint link from civit ai\n",
    "    'lowra',                             # name of the dir to save the converted diffuser model\n",
    "    from_ckpt=False)                     # true if the base model is also a checkpoint"
   ]
  },
  {
   "cell_type": "markdown",
   "id": "cd0c3803",
   "metadata": {},
   "source": [
    "**A mandalorian**"
   ]
  },
  {
   "cell_type": "code",
   "execution_count": null,
   "id": "dd084486",
   "metadata": {},
   "outputs": [],
   "source": [
    "generate(\n",
    "    model,\n",
    "    prompt=\"a mandalorian\",\n",
    "    N=3)"
   ]
  },
  {
   "cell_type": "code",
   "execution_count": null,
   "id": "9dceb104",
   "metadata": {},
   "outputs": [],
   "source": [
    "# with a detailed prompt\n",
    "generate(\n",
    "    model,\n",
    "    prompt=\"<lora:lowra_v10:0.6> dark a mandalorian, jetpack, beskar armour outfit, spaceship cabin,\\\n",
    "        low key, 8k, intricate details, hdr, cinematic\",\n",
    "    N=3)"
   ]
  },
  {
   "cell_type": "code",
   "execution_count": null,
   "id": "03b2ed02",
   "metadata": {},
   "outputs": [],
   "source": [
    "# with a negative prompt to remove artifacts\n",
    "generate(\n",
    "    model,\n",
    "    prompt=\"<lora:lowra_v10:0.6> dark a mandalorian, jetpack, beskar armour outfit, spaceship cabin,\\\n",
    "        low key, 8k, intricate details, hdr, cinematic\",\n",
    "    negative_prompt=\"deformed, distorted, disfigured, poorly drawn, bad anatomy, wrong anatomy, extra limb, \\\n",
    "        missing limb, floating limbs, duplicate, disconnected limbs, mutation, mutated, ugly, disgusting, \\\n",
    "        blurry, amputation\",\n",
    "    N=3)"
   ]
  },
  {
   "cell_type": "markdown",
   "id": "04c01224",
   "metadata": {},
   "source": [
    "**A dark theme**"
   ]
  },
  {
   "cell_type": "code",
   "execution_count": null,
   "id": "ff063062",
   "metadata": {},
   "outputs": [],
   "source": [
    "generate(\n",
    "    model,\n",
    "    prompt=\"rocks balancing\",\n",
    "    N=3)"
   ]
  },
  {
   "cell_type": "code",
   "execution_count": null,
   "id": "aa4915fb",
   "metadata": {},
   "outputs": [],
   "source": [
    "# with detailed prompt\n",
    "generate(\n",
    "    model,\n",
    "    prompt=\"<lora:lowra_v10:0.6> dark theme, rocks balancing\",\n",
    "    N=3)"
   ]
  },
  {
   "cell_type": "code",
   "execution_count": null,
   "id": "ac311da7",
   "metadata": {},
   "outputs": [],
   "source": [
    "# with negative prompt\n",
    "generate(\n",
    "    model,\n",
    "    prompt=\"<lora:lowra_v10:0.6> dark theme, rocks balancing\",\n",
    "    negative_prompt=\"deformed, distorted, disfigured, ugly, disgusting, blurry\",\n",
    "    N=3)"
   ]
  },
  {
   "cell_type": "markdown",
   "id": "a3da1436",
   "metadata": {},
   "source": [
    "**A 250 gto**"
   ]
  },
  {
   "cell_type": "code",
   "execution_count": null,
   "id": "595a2128",
   "metadata": {},
   "outputs": [],
   "source": [
    "generate(\n",
    "    model,\n",
    "    prompt=\"a 250 gto, motion shot\",\n",
    "    negative_prompt=\n",
    "    N=3)"
   ]
  },
  {
   "cell_type": "code",
   "execution_count": null,
   "id": "ede2e8e8",
   "metadata": {},
   "outputs": [],
   "source": [
    "# with detailed prompt\n",
    "generate(\n",
    "    model,\n",
    "    prompt=\"<lora:lowra_v10:0.7> a 250 gto, motion shot, dark theme, 8k, hdr\",\n",
    "    N=3)"
   ]
  },
  {
   "cell_type": "code",
   "execution_count": null,
   "id": "2dee3fee",
   "metadata": {},
   "outputs": [],
   "source": [
    "# with negative prompt\n",
    "generate(\n",
    "    model,\n",
    "    prompt=\"<lora:lowra_v10:0.7> a 250 gto, motion shot, dark theme, 8k, hdr\",\n",
    "    negative_prompt=\"deformed, distorted, disfigured, poorly drawn, bad anatomy, wrong anatomy, mutation, \\\n",
    "        mutated, ugly, disgusting, blurry, amputation\",\n",
    "    N=3,\n",
    "    upscale=True) # upscales the output images to a higher resolution(takes a bit more time)"
   ]
  },
  {
   "cell_type": "markdown",
   "id": "e20e681d",
   "metadata": {},
   "source": [
    "## Generate your own low key images\n",
    "- Start with a simple prompt\n",
    "- Improvise and add more details\n",
    "- Add a negative prompt(from the above examples) to remove artifacts and improve overall quality.\n",
    "- Set ```upscale=True``` once you have your final results from the diffusion model to get higher resolution images"
   ]
  },
  {
   "cell_type": "code",
   "execution_count": null,
   "id": "a88bd4a0",
   "metadata": {},
   "outputs": [],
   "source": [
    "generate(\n",
    "    model,\n",
    "    prompt=\"\",\n",
    "    N=3,\n",
    "    upscale=False) # upscales the output images to a higher resolution(takes a bit more time)"
   ]
  }
 ],
 "metadata": {
  "kernelspec": {
   "display_name": "diffusers",
   "language": "python",
   "name": "diffusers"
  },
  "language_info": {
   "codemirror_mode": {
    "name": "ipython",
    "version": 3
   },
   "file_extension": ".py",
   "mimetype": "text/x-python",
   "name": "python",
   "nbconvert_exporter": "python",
   "pygments_lexer": "ipython3",
   "version": "3.9.5"
  }
 },
 "nbformat": 4,
 "nbformat_minor": 5
}
