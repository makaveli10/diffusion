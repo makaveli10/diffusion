{
 "cells": [
  {
   "cell_type": "code",
   "execution_count": null,
   "id": "2cf28ed9",
   "metadata": {},
   "outputs": [],
   "source": [
    "%load_ext autoreload\n",
    "%autoreload 2\n",
    "from matplotlib import pylab\n",
    "from smlai import *"
   ]
  },
  {
   "cell_type": "markdown",
   "id": "d21a0342",
   "metadata": {},
   "source": [
    "# Battle Cars\n",
    "This model creates battle cars with abstract environments. We use the [```lora``` checkpoint](https://civitai.com/models/35438/battle-cars) from civit-ai.\n",
    "\n",
    "Helpful positives to add to your prompt:\n",
    "```\n",
    "vehicle focus, no humans, car, wheel, tire, debris, fire, spike, rock, dirty, clean, shiny, oil slick, reflection, splash, droplets, rust, sparks, asphalt, ground vehicle, sports car, buggy, truck, 4x4 off road, super car, mechanical\n",
    "```"
   ]
  },
  {
   "cell_type": "code",
   "execution_count": null,
   "id": "45fb964b",
   "metadata": {},
   "outputs": [],
   "source": [
    "# load model\n",
    "# We have already converted and saved the battle-cars checkpoint in diffusers(the library we use) format\n",
    "model = load_model(\"makaveli10/battleCars_v2\")"
   ]
  },
  {
   "cell_type": "markdown",
   "id": "ca8461c2",
   "metadata": {},
   "source": [
    "**Humvee**"
   ]
  },
  {
   "cell_type": "code",
   "execution_count": null,
   "id": "8ffdea10",
   "metadata": {},
   "outputs": [],
   "source": [
    "generate(model, \n",
    "         prompt=\"a painted glossy red humvee, 4x4 off road\", \n",
    "         N=3, \n",
    ")"
   ]
  },
  {
   "cell_type": "code",
   "execution_count": null,
   "id": "11330885",
   "metadata": {},
   "outputs": [],
   "source": [
    "# detailed prompt with some positives from the list mentioned above in the model information\n",
    "generate(model, \n",
    "         prompt=\"a painted glossy red humvee, 4x4 off road, vehicle focus, ultra detailed, battlecar, masterpiece, \\\n",
    "             no humans, car, wheel, tire, debris, splash, sparks, electricity, glowing, water, dirty,\", \n",
    "         N=3, \n",
    ")"
   ]
  },
  {
   "cell_type": "code",
   "execution_count": null,
   "id": "1c232c45",
   "metadata": {},
   "outputs": [],
   "source": [
    "# with negative prompt to remove artifacts and improve overall quality\n",
    "generate(model, \n",
    "         prompt=\"a painted glossy red humvee, 4x4 off road, vehicle focus, ultra-detailed, battlecar, masterpiece, \\\n",
    "             no humans, car, wheel, tire, debris, splash, sparks, electricity, glowing, water, dirty,\",\n",
    "         negative_prompt=\"worst quality, low quality, monochrome, blurry, license plate, english text, lowres, \\\n",
    "             low detail, artist name, signature, watermark\",\n",
    "         N=3, upscale=True\n",
    ")"
   ]
  },
  {
   "cell_type": "markdown",
   "id": "a04ed470",
   "metadata": {},
   "source": [
    "**A battle ambulance**"
   ]
  },
  {
   "cell_type": "code",
   "execution_count": null,
   "id": "a7dd172b",
   "metadata": {},
   "outputs": [],
   "source": [
    "generate(model, \n",
    "         prompt=\"ambulance, battlecar, car, no humans\", \n",
    "         N=3, \n",
    ")"
   ]
  },
  {
   "cell_type": "code",
   "execution_count": null,
   "id": "2d08e9cb",
   "metadata": {},
   "outputs": [],
   "source": [
    "# with more detailed prompt( from the positives mentioned above in the description )\n",
    "generate(model, \n",
    "         prompt=\"ambulance, battlecar, vehicle focus, no humans, car, wheel, tire, starry sky, moon, dirty,\\\n",
    "             rock, masterpiece, best quality, ultra-detailed\", \n",
    "         N=3, \n",
    ")"
   ]
  },
  {
   "cell_type": "code",
   "execution_count": null,
   "id": "e10659a0",
   "metadata": {},
   "outputs": [],
   "source": [
    "# with a negative prompt to remove artifacts and improve quality\n",
    "generate(model, \n",
    "         prompt=\"ambulance, battlecar, vehicle focus, no humans, car, wheel, tire, debris, starry sky, moon, dirty,\\\n",
    "             rock, masterpiece, best quality, ultra-detailed\", \n",
    "         negative_prompt=\"worst quality, low quality, monochrome, blurry, license plate, english text, \\\n",
    "             lowres, low detail, artist name, signature, watermark\",\n",
    "         N=3\n",
    ")"
   ]
  },
  {
   "cell_type": "markdown",
   "id": "2658c714",
   "metadata": {},
   "source": [
    "**Buggy**"
   ]
  },
  {
   "cell_type": "code",
   "execution_count": null,
   "id": "7a746630",
   "metadata": {},
   "outputs": [],
   "source": [
    "generate(\n",
    "    model,\n",
    "    prompt=\"buggy, battlecar, car, no humans\",\n",
    "    N=3)"
   ]
  },
  {
   "cell_type": "code",
   "execution_count": null,
   "id": "cadb5bda",
   "metadata": {},
   "outputs": [],
   "source": [
    "# with a detailed prompt\n",
    "generate(\n",
    "    model,\n",
    "    prompt=\"buggy, battlecar, car, painted pearl black, vehicle focus, no humans, car, wheel, tire, smooth floor, \\\n",
    "             reflection, dirty, rock, masterpiece, best quality, ultra-detailed \",\n",
    "    N=3)"
   ]
  },
  {
   "cell_type": "code",
   "execution_count": null,
   "id": "0093f7f9",
   "metadata": {},
   "outputs": [],
   "source": [
    "# negative prompt\n",
    "generate(\n",
    "    model,\n",
    "    prompt=\"buggy, battlecar, car, painted pearl black, vehicle focus, no humans, car, wheel, tire, smooth floor, \\\n",
    "             reflection, dirty, rock, masterpiece, best quality, ultra-detailed \",\n",
    "    negative_prompt=\"worst quality, low quality, monochrome, blurry, license plate, english text, lowres, \\\n",
    "        low detail, artist name, signature, watermark\",\n",
    "    N=3, upscale=True)"
   ]
  },
  {
   "cell_type": "markdown",
   "id": "ae2ef9b3",
   "metadata": {},
   "source": [
    "## Generate your own battle cars\n",
    "- Start with a simple prompt. \n",
    "- Improvise and add more details. Use the positive words from the list given above in the description or from the examples.\n",
    "- Add a negative prompt(from the above examples) to remove artifacts and improve overall quality.\n",
    "- Set ```upscale=True``` once you have your final results from the diffusion model, to get higher resolution results."
   ]
  },
  {
   "cell_type": "code",
   "execution_count": null,
   "id": "dc623248",
   "metadata": {},
   "outputs": [],
   "source": [
    "generate(\n",
    "    model,\n",
    "    prompt=\"\",\n",
    "    N=3)"
   ]
  }
 ],
 "metadata": {
  "kernelspec": {
   "display_name": "diffusers",
   "language": "python",
   "name": "diffusers"
  },
  "language_info": {
   "codemirror_mode": {
    "name": "ipython",
    "version": 3
   },
   "file_extension": ".py",
   "mimetype": "text/x-python",
   "name": "python",
   "nbconvert_exporter": "python",
   "pygments_lexer": "ipython3",
   "version": "3.9.5"
  }
 },
 "nbformat": 4,
 "nbformat_minor": 5
}
