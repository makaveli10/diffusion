{
 "cells": [
  {
   "cell_type": "code",
   "execution_count": 1,
   "id": "91ea40f6",
   "metadata": {},
   "outputs": [],
   "source": [
    "import json, gc\n",
    "from IPython.display import HTML\n",
    "import glob\n",
    "import math\n",
    "from pathlib import Path\n",
    "\n",
    "model_path  = ''\n",
    "def train_model(dataset,\n",
    "                instance_prompt=\"sks young man\",\n",
    "                class_prompt=\"a young man\",\n",
    "                base=\"ItsJayQz/SynthwavePunk-v2\",\n",
    "                resolution=512,\n",
    "                max_train_steps=None):\n",
    "    \n",
    "    global pipe\n",
    "    pipe = None\n",
    "    gc.collect()\n",
    "\n",
    "    if class_prompt:\n",
    "        prior_dir = f\"{class_prompt.replace(' ','-')}-prior\"\n",
    "        #class_imgs = len(get_image_files(prior_dir))\n",
    "        theme_args = f'''--class_data_dir=\"{prior_dir}\" \\\n",
    "          --with_prior_preservation \\\n",
    "          --class_prompt=\"{class_prompt}\" \\\n",
    "          --num_class_images=\"200\"\n",
    "        '''\n",
    "    else:\n",
    "        theme_args = []\n",
    "        \n",
    "    instance_imgs = [f for f in Path(dataset).iterdir() if f.name != \"labels.txt\"]\n",
    "    \n",
    "    global model_path\n",
    "    model_dir = f'models/{dataset}-{prior_dir}-prior-labeled-sks-cosinelr'\n",
    "    model_path = model_dir\n",
    "    \n",
    "    if max_train_steps is None:\n",
    "        max_train_steps = int((math.log10(len(instance_imgs)) * 2 + 1) * 400)\n",
    "    \n",
    "    !accelerate launch diffusers/examples/dreambooth/train_dreambooth_rtx.py \\\n",
    "      --pretrained_model_name_or_path={base}  \\\n",
    "      --instance_data_dir={dataset} \\\n",
    "      --output_dir={model_dir} \\\n",
    "      --with_prior_preservation --prior_loss_weight=1.0 \\\n",
    "      --save_interval={max_train_steps//5} \\\n",
    "      --instance_prompt=\"{instance_prompt}\" \\\n",
    "      --class_prompt=\"{class_prompt}\" \\\n",
    "      --resolution={resolution} \\\n",
    "      --train_batch_size=1 \\\n",
    "      --gradient_accumulation_steps=2 --gradient_checkpointing \\\n",
    "      --use_8bit_adam \\\n",
    "      --learning_rate=2e-6 \\\n",
    "      --lr_scheduler=\"constant\" \\\n",
    "      --lr_warmup_steps=0 \\\n",
    "      --max_train_steps={max_train_steps} \\\n",
    "      {theme_args}\n",
    "    \n",
    "#     !accelerate launch diffusers/examples/dreambooth/train_dreambooth.py \\\n",
    "#       --pretrained_model_name_or_path={base}  \\\n",
    "#       --instance_data_dir={dataset} \\\n",
    "#       --output_dir={model_dir} \\\n",
    "#       --checkpointing_steps={max_train_steps//5} \\\n",
    "#       --train_text_encoder \\\n",
    "#       --instance_prompt=\"{instance_prompt}\" \\\n",
    "#       --resolution={resolution} \\\n",
    "#       --train_batch_size=1 \\\n",
    "#       --gradient_accumulation_steps=1 \\\n",
    "#       --learning_rate=2e-6 \\\n",
    "#       --lr_scheduler=\"constant\" \\\n",
    "#       --lr_warmup_steps=0 \\\n",
    "#       --max_train_steps={max_train_steps} \\\n",
    "#       {theme_args}\n",
    "    \n",
    "    with open(f'{model_dir}/my_metadata.json', 'w') as f:\n",
    "        json.dump(dict(\n",
    "                model = model_dir,\n",
    "                dataset=dataset,\n",
    "                instance_prompt=instance_prompt,\n",
    "                class_prompt=class_prompt,\n",
    "                base=base,\n",
    "                max_train_steps=max_train_steps,\n",
    "                resolution=resolution,\n",
    "        ), f)"
   ]
  },
  {
   "cell_type": "code",
   "execution_count": 2,
   "id": "614610ba",
   "metadata": {},
   "outputs": [],
   "source": [
    "from diffusers import DiffusionPipeline\n",
    "import torch\n",
    "import os\n",
    "import random\n",
    "from pathlib import Path\n",
    "\n",
    "def load_model(model_id):\n",
    "    pipe = DiffusionPipeline.from_pretrained(model_id, custom_pipeline=\"./lpw_stable_diffusion.py\", torch_dtype=torch.float16).to(\"cuda\")\n",
    "    pipe.modeldir = model_id\n",
    "    return pipe\n",
    "\n",
    "import os,base64\n",
    "\n",
    "def generate(model_id, _dirname, prompt, negative_prompt=None, seed=31337, steps=50, N=9, w=512, h=512, guidance_scale=9):\n",
    "    generators = [torch.Generator(device=\"cuda\").manual_seed(seed + i*512) for i in range(N)]\n",
    "    if isinstance(model_id, str):\n",
    "        pipe = DiffusionPipeline.from_pretrained(model_id, custom_pipeline=\"./lpw_stable_diffusion.py\", torch_dtype=torch.float16).to(\"cuda\")\n",
    "    else:\n",
    "        pipe = model_id\n",
    "        model_id = pipe.modeldir\n",
    "    \n",
    "    images = pipe(prompt, negative_prompt=negative_prompt, num_inference_steps=steps, guidance_scale=guidance_scale, generator=generators, num_images_per_prompt=N, width=w, height=h).images\n",
    "    \n",
    "    dirname = f'{Path(model_id).name}/{base64.urlsafe_b64encode(os.urandom(16)).decode(\"ascii\")}'\n",
    "    !rm -rf {dirname} && mkdir -p {dirname}\n",
    "    with open(f'{dirname}/meta.json', 'w') as f:\n",
    "        json.dump(dict(\n",
    "            model_id = model_id,\n",
    "            prompt = prompt,\n",
    "            negative_prompt = negative_prompt,\n",
    "            seed = seed,\n",
    "            steps = steps,\n",
    "            w = w,\n",
    "            h = h,\n",
    "            guidance_scale = guidance_scale,\n",
    "        ), f)\n",
    "    for i,img in enumerate(images): img.save(f'{dirname}/{i}.jpg')\n",
    "    del pipe\n",
    "    return HTML(''.join([f'<img style=\"float:left; width: 32%; margin:5px;\" src=\"{dirname}/{i}.jpg?{random.randint(0,2**31)}\" />' for i in range(N)]))"
   ]
  },
  {
   "cell_type": "code",
   "execution_count": 3,
   "id": "6a48e3b0",
   "metadata": {},
   "outputs": [
    {
     "name": "stdout",
     "output_type": "stream",
     "text": [
      "/opt/vineet-workspace/miniconda3/envs/diffusers/lib/python3.9/site-packages/accelerate/accelerator.py:249: FutureWarning: `logging_dir` is deprecated and will be removed in version 0.18.0 of 🤗 Accelerate. Use `project_dir` instead.\n",
      "  warnings.warn(\n",
      "/opt/vineet-workspace/miniconda3/envs/diffusers/lib/python3.9/site-packages/accelerate/accelerator.py:359: UserWarning: `log_with=tensorboard` was passed but no supported trackers are currently installed.\n",
      "  warnings.warn(f\"`log_with={log_with}` was passed but no supported trackers are currently installed.\")\n",
      "text_encoder/model.safetensors not found\n",
      "You have disabled the safety checker for <class 'diffusers.pipelines.stable_diffusion.pipeline_stable_diffusion.StableDiffusionPipeline'> by passing `safety_checker=None`. Ensure that you abide to the conditions of the Stable Diffusion license and do not expose unfiltered results in services or applications open to the public. Both the diffusers team and Hugging Face strongly recommend to keep the safety filter enabled in all public facing circumstances, disabling it only for use-cases that involve analyzing network behavior or auditing its results. For more information, please have a look at https://github.com/huggingface/diffusers/pull/254 .\n",
      "/opt/vineet-workspace/collabora/diffusers/src/diffusers/pipelines/stable_diffusion/pipeline_stable_diffusion.py:165: FutureWarning: The configuration file of the unet has set the default `sample_size` to smaller than 64 which seems highly unlikely. If your checkpoint is a fine-tuned version of any of the following: \n",
      "- CompVis/stable-diffusion-v1-4 \n",
      "- CompVis/stable-diffusion-v1-3 \n",
      "- CompVis/stable-diffusion-v1-2 \n",
      "- CompVis/stable-diffusion-v1-1 \n",
      "- runwayml/stable-diffusion-v1-5 \n",
      "- runwayml/stable-diffusion-inpainting \n",
      " you should change 'sample_size' to 64 in the configuration file. Please make sure to update the config accordingly as leaving `sample_size=32` in the config might lead to incorrect results in future versions. If you have downloaded this checkpoint from the Hugging Face Hub, it would be very nice if you could open a Pull request for the `unet/config.json` file\n",
      "  deprecate(\"sample_size<64\", \"1.0.0\", deprecation_message, standard_warn=False)\n",
      "04/26/2023 16:33:49 - INFO - __main__ - Number of class images to sample: 200.\n",
      "Generating class images: 100%|██████████████████| 50/50 [04:57<00:00,  5.96s/it]\n",
      "04/26/2023 16:38:48 - WARNING - __main__ - xformers is not available. Make sure it is installed correctly\n",
      "\n",
      "===================================BUG REPORT===================================\n",
      "Welcome to bitsandbytes. For bug reports, please run\n",
      "\n",
      "python -m bitsandbytes\n",
      "\n",
      " and submit this information together with your error trace to: https://github.com/TimDettmers/bitsandbytes/issues\n",
      "================================================================================\n",
      "bin /opt/vineet-workspace/miniconda3/envs/diffusers/lib/python3.9/site-packages/bitsandbytes/libbitsandbytes_cpu.so\n",
      "Unknown CUDA exception! Please check your CUDA install. It might also be that your GPU is too old.\n",
      "Unknown CUDA exception! Please check your CUDA install. It might also be that your GPU is too old.\n",
      "CUDA SETUP: CUDA runtime path found: /opt/vineet-workspace/miniconda3/envs/diffusers/lib/libcudart.so\n",
      "/opt/vineet-workspace/miniconda3/envs/diffusers/lib/python3.9/site-packages/bitsandbytes/cuda_setup/main.py:145: UserWarning: WARNING: No GPU detected! Check your CUDA paths. Proceeding to load CPU-only library...\n",
      "  warn(msg)\n",
      "CUDA SETUP: Detected CUDA version 112\n",
      "CUDA SETUP: Loading binary /opt/vineet-workspace/miniconda3/envs/diffusers/lib/python3.9/site-packages/bitsandbytes/libbitsandbytes_cpu.so...\n",
      "/opt/vineet-workspace/collabora/diffusers/src/diffusers/configuration_utils.py:214: FutureWarning: It is deprecated to pass a pretrained model name or path to `from_config`.If you were trying to load a scheduler, please use <class 'diffusers.schedulers.scheduling_ddpm.DDPMScheduler'>.from_pretrained(...) instead. Otherwise, please make sure to pass a configuration dictionary instead. This functionality will be removed in v1.0.0.\n",
      "  deprecate(\"config-passed-as-path\", \"1.0.0\", deprecation_message, standard_warn=False)\n",
      "Caching latents: 100%|████████████████████████| 200/200 [00:30<00:00,  6.64it/s]\n",
      "04/26/2023 16:39:24 - INFO - __main__ - ***** Running training *****\n",
      "04/26/2023 16:39:24 - INFO - __main__ -   Num examples = 200\n",
      "04/26/2023 16:39:24 - INFO - __main__ -   Num batches each epoch = 200\n",
      "04/26/2023 16:39:24 - INFO - __main__ -   Num Epochs = 13\n",
      "04/26/2023 16:39:24 - INFO - __main__ -   Instantaneous batch size per device = 1\n",
      "04/26/2023 16:39:24 - INFO - __main__ -   Total train batch size (w. parallel, distributed & accumulation) = 2\n",
      "04/26/2023 16:39:24 - INFO - __main__ -   Gradient Accumulation steps = 2\n",
      "04/26/2023 16:39:24 - INFO - __main__ -   Total optimization steps = 1263\n",
      "Steps:  20%|██▍         | 252/1263 [02:18<09:06,  1.85it/s, loss=0.302, lr=2e-6]You have disabled the safety checker for <class 'diffusers.pipelines.stable_diffusion.pipeline_stable_diffusion.StableDiffusionPipeline'> by passing `safety_checker=None`. Ensure that you abide to the conditions of the Stable Diffusion license and do not expose unfiltered results in services or applications open to the public. Both the diffusers team and Hugging Face strongly recommend to keep the safety filter enabled in all public facing circumstances, disabling it only for use-cases that involve analyzing network behavior or auditing its results. For more information, please have a look at https://github.com/huggingface/diffusers/pull/254 .\n",
      "[*] Weights saved at models/train_imgs-a-young-man-prior-prior-labeled-sks-cosinelr/checkpoint-252\n",
      "Steps:  40%|█████▏       | 504/1263 [04:43<06:54,  1.83it/s, loss=0.29, lr=2e-6]You have disabled the safety checker for <class 'diffusers.pipelines.stable_diffusion.pipeline_stable_diffusion.StableDiffusionPipeline'> by passing `safety_checker=None`. Ensure that you abide to the conditions of the Stable Diffusion license and do not expose unfiltered results in services or applications open to the public. Both the diffusers team and Hugging Face strongly recommend to keep the safety filter enabled in all public facing circumstances, disabling it only for use-cases that involve analyzing network behavior or auditing its results. For more information, please have a look at https://github.com/huggingface/diffusers/pull/254 .\n",
      "[*] Weights saved at models/train_imgs-a-young-man-prior-prior-labeled-sks-cosinelr/checkpoint-504\n",
      "Steps:  60%|███████▏    | 756/1263 [07:08<04:38,  1.82it/s, loss=0.284, lr=2e-6]You have disabled the safety checker for <class 'diffusers.pipelines.stable_diffusion.pipeline_stable_diffusion.StableDiffusionPipeline'> by passing `safety_checker=None`. Ensure that you abide to the conditions of the Stable Diffusion license and do not expose unfiltered results in services or applications open to the public. Both the diffusers team and Hugging Face strongly recommend to keep the safety filter enabled in all public facing circumstances, disabling it only for use-cases that involve analyzing network behavior or auditing its results. For more information, please have a look at https://github.com/huggingface/diffusers/pull/254 .\n",
      "[*] Weights saved at models/train_imgs-a-young-man-prior-prior-labeled-sks-cosinelr/checkpoint-756\n",
      "Steps:  80%|█████████▌  | 1008/1263 [09:32<02:20,  1.82it/s, loss=0.28, lr=2e-6]You have disabled the safety checker for <class 'diffusers.pipelines.stable_diffusion.pipeline_stable_diffusion.StableDiffusionPipeline'> by passing `safety_checker=None`. Ensure that you abide to the conditions of the Stable Diffusion license and do not expose unfiltered results in services or applications open to the public. Both the diffusers team and Hugging Face strongly recommend to keep the safety filter enabled in all public facing circumstances, disabling it only for use-cases that involve analyzing network behavior or auditing its results. For more information, please have a look at https://github.com/huggingface/diffusers/pull/254 .\n",
      "[*] Weights saved at models/train_imgs-a-young-man-prior-prior-labeled-sks-cosinelr/checkpoint-1008\n",
      "Steps: 100%|██████████▉| 1260/1263 [11:58<00:01,  1.82it/s, loss=0.275, lr=2e-6]You have disabled the safety checker for <class 'diffusers.pipelines.stable_diffusion.pipeline_stable_diffusion.StableDiffusionPipeline'> by passing `safety_checker=None`. Ensure that you abide to the conditions of the Stable Diffusion license and do not expose unfiltered results in services or applications open to the public. Both the diffusers team and Hugging Face strongly recommend to keep the safety filter enabled in all public facing circumstances, disabling it only for use-cases that involve analyzing network behavior or auditing its results. For more information, please have a look at https://github.com/huggingface/diffusers/pull/254 .\n",
      "[*] Weights saved at models/train_imgs-a-young-man-prior-prior-labeled-sks-cosinelr/checkpoint-1260\n",
      "Steps: : 1269it [12:11,  1.46it/s, loss=0.275, lr=2e-6]                         You have disabled the safety checker for <class 'diffusers.pipelines.stable_diffusion.pipeline_stable_diffusion.StableDiffusionPipeline'> by passing `safety_checker=None`. Ensure that you abide to the conditions of the Stable Diffusion license and do not expose unfiltered results in services or applications open to the public. Both the diffusers team and Hugging Face strongly recommend to keep the safety filter enabled in all public facing circumstances, disabling it only for use-cases that involve analyzing network behavior or auditing its results. For more information, please have a look at https://github.com/huggingface/diffusers/pull/254 .\n",
      "[*] Weights saved at models/train_imgs-a-young-man-prior-prior-labeled-sks-cosinelr/checkpoint-1269\n",
      "Steps: : 1269it [12:20,  1.71it/s, loss=0.275, lr=2e-6]\n"
     ]
    }
   ],
   "source": [
    "# import bitsandbytes\n",
    "train_model(\"train_imgs\")"
   ]
  },
  {
   "cell_type": "code",
   "execution_count": 4,
   "id": "ccc2d1ba",
   "metadata": {},
   "outputs": [
    {
     "data": {
      "text/plain": [
       "'models/train_imgs-a-young-man-prior-prior-labeled-sks-cosinelr'"
      ]
     },
     "execution_count": 4,
     "metadata": {},
     "output_type": "execute_result"
    }
   ],
   "source": [
    "model_path"
   ]
  },
  {
   "cell_type": "code",
   "execution_count": 5,
   "id": "8fe06759",
   "metadata": {},
   "outputs": [
    {
     "name": "stderr",
     "output_type": "stream",
     "text": [
      "You have disabled the safety checker for <class 'diffusers_modules.local.lpw_stable_diffusion.StableDiffusionLongPromptWeightingPipeline'> by passing `safety_checker=None`. Ensure that you abide to the conditions of the Stable Diffusion license and do not expose unfiltered results in services or applications open to the public. Both the diffusers team and Hugging Face strongly recommend to keep the safety filter enabled in all public facing circumstances, disabling it only for use-cases that involve analyzing network behavior or auditing its results. For more information, please have a look at https://github.com/huggingface/diffusers/pull/254 .\n",
      "/home/vineet/.cache/huggingface/modules/diffusers_modules/local/lpw_stable_diffusion.py:628: FutureWarning: Accessing config attribute `in_channels` directly via 'UNet2DConditionModel' object attribute is deprecated. Please access 'in_channels' over 'UNet2DConditionModel's config object instead, e.g. 'unet.config.in_channels'.\n",
      "  self.unet.in_channels,\n"
     ]
    },
    {
     "data": {
      "application/vnd.jupyter.widget-view+json": {
       "model_id": "72a70f7e8c954ef882f5bfb5ae7a6b42",
       "version_major": 2,
       "version_minor": 0
      },
      "text/plain": [
       "  0%|          | 0/50 [00:00<?, ?it/s]"
      ]
     },
     "metadata": {},
     "output_type": "display_data"
    },
    {
     "data": {
      "text/html": [
       "<img style=\"float:left; width: 32%; margin:5px;\" src=\"checkpoint-1008/AEa8za8QV6gobE_v8un7Jg==/0.jpg?1386273823\" /><img style=\"float:left; width: 32%; margin:5px;\" src=\"checkpoint-1008/AEa8za8QV6gobE_v8un7Jg==/1.jpg?1417665017\" /><img style=\"float:left; width: 32%; margin:5px;\" src=\"checkpoint-1008/AEa8za8QV6gobE_v8un7Jg==/2.jpg?239339466\" />"
      ],
      "text/plain": [
       "<IPython.core.display.HTML object>"
      ]
     },
     "metadata": {},
     "output_type": "display_data"
    },
    {
     "name": "stdout",
     "output_type": "stream",
     "text": [
      "Checkpoint: models/train_imgs-a-young-man-prior-prior-labeled-sks-cosinelr/checkpoint-1008\n"
     ]
    },
    {
     "name": "stderr",
     "output_type": "stream",
     "text": [
      "You have disabled the safety checker for <class 'diffusers_modules.local.lpw_stable_diffusion.StableDiffusionLongPromptWeightingPipeline'> by passing `safety_checker=None`. Ensure that you abide to the conditions of the Stable Diffusion license and do not expose unfiltered results in services or applications open to the public. Both the diffusers team and Hugging Face strongly recommend to keep the safety filter enabled in all public facing circumstances, disabling it only for use-cases that involve analyzing network behavior or auditing its results. For more information, please have a look at https://github.com/huggingface/diffusers/pull/254 .\n"
     ]
    },
    {
     "data": {
      "application/vnd.jupyter.widget-view+json": {
       "model_id": "9ff045fe34a24528bf056c179900d84a",
       "version_major": 2,
       "version_minor": 0
      },
      "text/plain": [
       "  0%|          | 0/50 [00:00<?, ?it/s]"
      ]
     },
     "metadata": {},
     "output_type": "display_data"
    },
    {
     "data": {
      "text/html": [
       "<img style=\"float:left; width: 32%; margin:5px;\" src=\"checkpoint-1260/4B9Wd_23PMv6bpxbk2kRaA==/0.jpg?2126625282\" /><img style=\"float:left; width: 32%; margin:5px;\" src=\"checkpoint-1260/4B9Wd_23PMv6bpxbk2kRaA==/1.jpg?1001822484\" /><img style=\"float:left; width: 32%; margin:5px;\" src=\"checkpoint-1260/4B9Wd_23PMv6bpxbk2kRaA==/2.jpg?635920720\" />"
      ],
      "text/plain": [
       "<IPython.core.display.HTML object>"
      ]
     },
     "metadata": {},
     "output_type": "display_data"
    },
    {
     "name": "stdout",
     "output_type": "stream",
     "text": [
      "Checkpoint: models/train_imgs-a-young-man-prior-prior-labeled-sks-cosinelr/checkpoint-1260\n"
     ]
    },
    {
     "name": "stderr",
     "output_type": "stream",
     "text": [
      "You have disabled the safety checker for <class 'diffusers_modules.local.lpw_stable_diffusion.StableDiffusionLongPromptWeightingPipeline'> by passing `safety_checker=None`. Ensure that you abide to the conditions of the Stable Diffusion license and do not expose unfiltered results in services or applications open to the public. Both the diffusers team and Hugging Face strongly recommend to keep the safety filter enabled in all public facing circumstances, disabling it only for use-cases that involve analyzing network behavior or auditing its results. For more information, please have a look at https://github.com/huggingface/diffusers/pull/254 .\n"
     ]
    },
    {
     "data": {
      "application/vnd.jupyter.widget-view+json": {
       "model_id": "9be48522aad6462d818f618af56113d2",
       "version_major": 2,
       "version_minor": 0
      },
      "text/plain": [
       "  0%|          | 0/50 [00:00<?, ?it/s]"
      ]
     },
     "metadata": {},
     "output_type": "display_data"
    },
    {
     "data": {
      "text/html": [
       "<img style=\"float:left; width: 32%; margin:5px;\" src=\"checkpoint-1269/gCHMZ5UJINIH7nwc2ln2pQ==/0.jpg?1131549437\" /><img style=\"float:left; width: 32%; margin:5px;\" src=\"checkpoint-1269/gCHMZ5UJINIH7nwc2ln2pQ==/1.jpg?179204272\" /><img style=\"float:left; width: 32%; margin:5px;\" src=\"checkpoint-1269/gCHMZ5UJINIH7nwc2ln2pQ==/2.jpg?35869342\" />"
      ],
      "text/plain": [
       "<IPython.core.display.HTML object>"
      ]
     },
     "metadata": {},
     "output_type": "display_data"
    },
    {
     "name": "stdout",
     "output_type": "stream",
     "text": [
      "Checkpoint: models/train_imgs-a-young-man-prior-prior-labeled-sks-cosinelr/checkpoint-1269\n"
     ]
    },
    {
     "name": "stderr",
     "output_type": "stream",
     "text": [
      "You have disabled the safety checker for <class 'diffusers_modules.local.lpw_stable_diffusion.StableDiffusionLongPromptWeightingPipeline'> by passing `safety_checker=None`. Ensure that you abide to the conditions of the Stable Diffusion license and do not expose unfiltered results in services or applications open to the public. Both the diffusers team and Hugging Face strongly recommend to keep the safety filter enabled in all public facing circumstances, disabling it only for use-cases that involve analyzing network behavior or auditing its results. For more information, please have a look at https://github.com/huggingface/diffusers/pull/254 .\n"
     ]
    },
    {
     "data": {
      "application/vnd.jupyter.widget-view+json": {
       "model_id": "6fe05d33de0d4de783073f2dabf6a138",
       "version_major": 2,
       "version_minor": 0
      },
      "text/plain": [
       "  0%|          | 0/50 [00:00<?, ?it/s]"
      ]
     },
     "metadata": {},
     "output_type": "display_data"
    },
    {
     "data": {
      "text/html": [
       "<img style=\"float:left; width: 32%; margin:5px;\" src=\"checkpoint-252/XkDSrozSIAAyQQOOhpNBgQ==/0.jpg?121336732\" /><img style=\"float:left; width: 32%; margin:5px;\" src=\"checkpoint-252/XkDSrozSIAAyQQOOhpNBgQ==/1.jpg?2135262145\" /><img style=\"float:left; width: 32%; margin:5px;\" src=\"checkpoint-252/XkDSrozSIAAyQQOOhpNBgQ==/2.jpg?860989628\" />"
      ],
      "text/plain": [
       "<IPython.core.display.HTML object>"
      ]
     },
     "metadata": {},
     "output_type": "display_data"
    },
    {
     "name": "stdout",
     "output_type": "stream",
     "text": [
      "Checkpoint: models/train_imgs-a-young-man-prior-prior-labeled-sks-cosinelr/checkpoint-252\n"
     ]
    },
    {
     "name": "stderr",
     "output_type": "stream",
     "text": [
      "You have disabled the safety checker for <class 'diffusers_modules.local.lpw_stable_diffusion.StableDiffusionLongPromptWeightingPipeline'> by passing `safety_checker=None`. Ensure that you abide to the conditions of the Stable Diffusion license and do not expose unfiltered results in services or applications open to the public. Both the diffusers team and Hugging Face strongly recommend to keep the safety filter enabled in all public facing circumstances, disabling it only for use-cases that involve analyzing network behavior or auditing its results. For more information, please have a look at https://github.com/huggingface/diffusers/pull/254 .\n"
     ]
    },
    {
     "data": {
      "application/vnd.jupyter.widget-view+json": {
       "model_id": "8a0292a8c6c847499f17e1f9ccde254f",
       "version_major": 2,
       "version_minor": 0
      },
      "text/plain": [
       "  0%|          | 0/50 [00:00<?, ?it/s]"
      ]
     },
     "metadata": {},
     "output_type": "display_data"
    },
    {
     "data": {
      "text/html": [
       "<img style=\"float:left; width: 32%; margin:5px;\" src=\"checkpoint-504/Un-aKaudej5uye3gDn0UDg==/0.jpg?1778952721\" /><img style=\"float:left; width: 32%; margin:5px;\" src=\"checkpoint-504/Un-aKaudej5uye3gDn0UDg==/1.jpg?667460211\" /><img style=\"float:left; width: 32%; margin:5px;\" src=\"checkpoint-504/Un-aKaudej5uye3gDn0UDg==/2.jpg?905442115\" />"
      ],
      "text/plain": [
       "<IPython.core.display.HTML object>"
      ]
     },
     "metadata": {},
     "output_type": "display_data"
    },
    {
     "name": "stdout",
     "output_type": "stream",
     "text": [
      "Checkpoint: models/train_imgs-a-young-man-prior-prior-labeled-sks-cosinelr/checkpoint-504\n"
     ]
    },
    {
     "name": "stderr",
     "output_type": "stream",
     "text": [
      "You have disabled the safety checker for <class 'diffusers_modules.local.lpw_stable_diffusion.StableDiffusionLongPromptWeightingPipeline'> by passing `safety_checker=None`. Ensure that you abide to the conditions of the Stable Diffusion license and do not expose unfiltered results in services or applications open to the public. Both the diffusers team and Hugging Face strongly recommend to keep the safety filter enabled in all public facing circumstances, disabling it only for use-cases that involve analyzing network behavior or auditing its results. For more information, please have a look at https://github.com/huggingface/diffusers/pull/254 .\n"
     ]
    },
    {
     "data": {
      "application/vnd.jupyter.widget-view+json": {
       "model_id": "2347a6ac83864c249e470391c2793e1a",
       "version_major": 2,
       "version_minor": 0
      },
      "text/plain": [
       "  0%|          | 0/50 [00:00<?, ?it/s]"
      ]
     },
     "metadata": {},
     "output_type": "display_data"
    },
    {
     "data": {
      "text/html": [
       "<img style=\"float:left; width: 32%; margin:5px;\" src=\"checkpoint-756/-OdQybdmvEckIRB7727eFA==/0.jpg?1452514882\" /><img style=\"float:left; width: 32%; margin:5px;\" src=\"checkpoint-756/-OdQybdmvEckIRB7727eFA==/1.jpg?1239807558\" /><img style=\"float:left; width: 32%; margin:5px;\" src=\"checkpoint-756/-OdQybdmvEckIRB7727eFA==/2.jpg?859994571\" />"
      ],
      "text/plain": [
       "<IPython.core.display.HTML object>"
      ]
     },
     "metadata": {},
     "output_type": "display_data"
    },
    {
     "name": "stdout",
     "output_type": "stream",
     "text": [
      "Checkpoint: models/train_imgs-a-young-man-prior-prior-labeled-sks-cosinelr/checkpoint-756\n"
     ]
    }
   ],
   "source": [
    "for chkpt in sorted(glob.glob(model_path+'/checkpoint-*')):\n",
    "    display(generate(chkpt, Path(chkpt).name, N=3,\n",
    "      prompt=\"beautiful portrait photo of sks young man\",\n",
    "      negative_prompt=\"cartoon, 3d, (illustration:1.2), ((disfigured)), ((bad art)), ((deformed)), ((poorly drawn)), ((extra limbs)), ((close up)), ((b&w)), weird colors, blurry\"))\n",
    "    print(\"Checkpoint:\", chkpt)"
   ]
  },
  {
   "cell_type": "code",
   "execution_count": 6,
   "id": "b25e11ce",
   "metadata": {
    "scrolled": true
   },
   "outputs": [
    {
     "name": "stderr",
     "output_type": "stream",
     "text": [
      "You have disabled the safety checker for <class 'diffusers_modules.local.lpw_stable_diffusion.StableDiffusionLongPromptWeightingPipeline'> by passing `safety_checker=None`. Ensure that you abide to the conditions of the Stable Diffusion license and do not expose unfiltered results in services or applications open to the public. Both the diffusers team and Hugging Face strongly recommend to keep the safety filter enabled in all public facing circumstances, disabling it only for use-cases that involve analyzing network behavior or auditing its results. For more information, please have a look at https://github.com/huggingface/diffusers/pull/254 .\n"
     ]
    },
    {
     "data": {
      "application/vnd.jupyter.widget-view+json": {
       "model_id": "74a24bab6b754d0c92296e306a363875",
       "version_major": 2,
       "version_minor": 0
      },
      "text/plain": [
       "  0%|          | 0/50 [00:00<?, ?it/s]"
      ]
     },
     "metadata": {},
     "output_type": "display_data"
    },
    {
     "data": {
      "text/html": [
       "<img style=\"float:left; width: 32%; margin:5px;\" src=\"checkpoint-1008/y3aQada4jQcWSltUNeIeJA==/0.jpg?1994492509\" /><img style=\"float:left; width: 32%; margin:5px;\" src=\"checkpoint-1008/y3aQada4jQcWSltUNeIeJA==/1.jpg?1352829430\" /><img style=\"float:left; width: 32%; margin:5px;\" src=\"checkpoint-1008/y3aQada4jQcWSltUNeIeJA==/2.jpg?1839055955\" />"
      ],
      "text/plain": [
       "<IPython.core.display.HTML object>"
      ]
     },
     "metadata": {},
     "output_type": "display_data"
    },
    {
     "name": "stdout",
     "output_type": "stream",
     "text": [
      "Checkpoint: models/train_imgs-a-young-man-prior-prior-labeled-sks-cosinelr/checkpoint-1008\n"
     ]
    },
    {
     "name": "stderr",
     "output_type": "stream",
     "text": [
      "You have disabled the safety checker for <class 'diffusers_modules.local.lpw_stable_diffusion.StableDiffusionLongPromptWeightingPipeline'> by passing `safety_checker=None`. Ensure that you abide to the conditions of the Stable Diffusion license and do not expose unfiltered results in services or applications open to the public. Both the diffusers team and Hugging Face strongly recommend to keep the safety filter enabled in all public facing circumstances, disabling it only for use-cases that involve analyzing network behavior or auditing its results. For more information, please have a look at https://github.com/huggingface/diffusers/pull/254 .\n"
     ]
    },
    {
     "data": {
      "application/vnd.jupyter.widget-view+json": {
       "model_id": "eff37f69348b4de09a03fc9e363e442e",
       "version_major": 2,
       "version_minor": 0
      },
      "text/plain": [
       "  0%|          | 0/50 [00:00<?, ?it/s]"
      ]
     },
     "metadata": {},
     "output_type": "display_data"
    },
    {
     "data": {
      "text/html": [
       "<img style=\"float:left; width: 32%; margin:5px;\" src=\"checkpoint-1260/5KhpVAeWTRVKkO3VNA_Gfg==/0.jpg?716833033\" /><img style=\"float:left; width: 32%; margin:5px;\" src=\"checkpoint-1260/5KhpVAeWTRVKkO3VNA_Gfg==/1.jpg?1235710449\" /><img style=\"float:left; width: 32%; margin:5px;\" src=\"checkpoint-1260/5KhpVAeWTRVKkO3VNA_Gfg==/2.jpg?821676296\" />"
      ],
      "text/plain": [
       "<IPython.core.display.HTML object>"
      ]
     },
     "metadata": {},
     "output_type": "display_data"
    },
    {
     "name": "stdout",
     "output_type": "stream",
     "text": [
      "Checkpoint: models/train_imgs-a-young-man-prior-prior-labeled-sks-cosinelr/checkpoint-1260\n"
     ]
    },
    {
     "name": "stderr",
     "output_type": "stream",
     "text": [
      "You have disabled the safety checker for <class 'diffusers_modules.local.lpw_stable_diffusion.StableDiffusionLongPromptWeightingPipeline'> by passing `safety_checker=None`. Ensure that you abide to the conditions of the Stable Diffusion license and do not expose unfiltered results in services or applications open to the public. Both the diffusers team and Hugging Face strongly recommend to keep the safety filter enabled in all public facing circumstances, disabling it only for use-cases that involve analyzing network behavior or auditing its results. For more information, please have a look at https://github.com/huggingface/diffusers/pull/254 .\n"
     ]
    },
    {
     "data": {
      "application/vnd.jupyter.widget-view+json": {
       "model_id": "e69d3c2039fc4388b658b256983be534",
       "version_major": 2,
       "version_minor": 0
      },
      "text/plain": [
       "  0%|          | 0/50 [00:00<?, ?it/s]"
      ]
     },
     "metadata": {},
     "output_type": "display_data"
    },
    {
     "data": {
      "text/html": [
       "<img style=\"float:left; width: 32%; margin:5px;\" src=\"checkpoint-1269/KOf0aWSyf3BcNpSKm3lncg==/0.jpg?698625843\" /><img style=\"float:left; width: 32%; margin:5px;\" src=\"checkpoint-1269/KOf0aWSyf3BcNpSKm3lncg==/1.jpg?1473061018\" /><img style=\"float:left; width: 32%; margin:5px;\" src=\"checkpoint-1269/KOf0aWSyf3BcNpSKm3lncg==/2.jpg?969038239\" />"
      ],
      "text/plain": [
       "<IPython.core.display.HTML object>"
      ]
     },
     "metadata": {},
     "output_type": "display_data"
    },
    {
     "name": "stdout",
     "output_type": "stream",
     "text": [
      "Checkpoint: models/train_imgs-a-young-man-prior-prior-labeled-sks-cosinelr/checkpoint-1269\n"
     ]
    },
    {
     "name": "stderr",
     "output_type": "stream",
     "text": [
      "You have disabled the safety checker for <class 'diffusers_modules.local.lpw_stable_diffusion.StableDiffusionLongPromptWeightingPipeline'> by passing `safety_checker=None`. Ensure that you abide to the conditions of the Stable Diffusion license and do not expose unfiltered results in services or applications open to the public. Both the diffusers team and Hugging Face strongly recommend to keep the safety filter enabled in all public facing circumstances, disabling it only for use-cases that involve analyzing network behavior or auditing its results. For more information, please have a look at https://github.com/huggingface/diffusers/pull/254 .\n"
     ]
    },
    {
     "data": {
      "application/vnd.jupyter.widget-view+json": {
       "model_id": "e8df10c8f0414e8d9c0bf59bedc2c7d5",
       "version_major": 2,
       "version_minor": 0
      },
      "text/plain": [
       "  0%|          | 0/50 [00:00<?, ?it/s]"
      ]
     },
     "metadata": {},
     "output_type": "display_data"
    },
    {
     "data": {
      "text/html": [
       "<img style=\"float:left; width: 32%; margin:5px;\" src=\"checkpoint-252/LYTssMC7J39z7_Dh1MoPmw==/0.jpg?1326229938\" /><img style=\"float:left; width: 32%; margin:5px;\" src=\"checkpoint-252/LYTssMC7J39z7_Dh1MoPmw==/1.jpg?1209633636\" /><img style=\"float:left; width: 32%; margin:5px;\" src=\"checkpoint-252/LYTssMC7J39z7_Dh1MoPmw==/2.jpg?299778668\" />"
      ],
      "text/plain": [
       "<IPython.core.display.HTML object>"
      ]
     },
     "metadata": {},
     "output_type": "display_data"
    },
    {
     "name": "stdout",
     "output_type": "stream",
     "text": [
      "Checkpoint: models/train_imgs-a-young-man-prior-prior-labeled-sks-cosinelr/checkpoint-252\n"
     ]
    },
    {
     "name": "stderr",
     "output_type": "stream",
     "text": [
      "You have disabled the safety checker for <class 'diffusers_modules.local.lpw_stable_diffusion.StableDiffusionLongPromptWeightingPipeline'> by passing `safety_checker=None`. Ensure that you abide to the conditions of the Stable Diffusion license and do not expose unfiltered results in services or applications open to the public. Both the diffusers team and Hugging Face strongly recommend to keep the safety filter enabled in all public facing circumstances, disabling it only for use-cases that involve analyzing network behavior or auditing its results. For more information, please have a look at https://github.com/huggingface/diffusers/pull/254 .\n"
     ]
    },
    {
     "data": {
      "application/vnd.jupyter.widget-view+json": {
       "model_id": "d6a1ea3203324f6599d6d04ed271ac33",
       "version_major": 2,
       "version_minor": 0
      },
      "text/plain": [
       "  0%|          | 0/50 [00:00<?, ?it/s]"
      ]
     },
     "metadata": {},
     "output_type": "display_data"
    },
    {
     "data": {
      "text/html": [
       "<img style=\"float:left; width: 32%; margin:5px;\" src=\"checkpoint-504/LNocsMvOexxaIXjrsFGIWQ==/0.jpg?578227238\" /><img style=\"float:left; width: 32%; margin:5px;\" src=\"checkpoint-504/LNocsMvOexxaIXjrsFGIWQ==/1.jpg?1768006599\" /><img style=\"float:left; width: 32%; margin:5px;\" src=\"checkpoint-504/LNocsMvOexxaIXjrsFGIWQ==/2.jpg?503788255\" />"
      ],
      "text/plain": [
       "<IPython.core.display.HTML object>"
      ]
     },
     "metadata": {},
     "output_type": "display_data"
    },
    {
     "name": "stdout",
     "output_type": "stream",
     "text": [
      "Checkpoint: models/train_imgs-a-young-man-prior-prior-labeled-sks-cosinelr/checkpoint-504\n"
     ]
    },
    {
     "name": "stderr",
     "output_type": "stream",
     "text": [
      "You have disabled the safety checker for <class 'diffusers_modules.local.lpw_stable_diffusion.StableDiffusionLongPromptWeightingPipeline'> by passing `safety_checker=None`. Ensure that you abide to the conditions of the Stable Diffusion license and do not expose unfiltered results in services or applications open to the public. Both the diffusers team and Hugging Face strongly recommend to keep the safety filter enabled in all public facing circumstances, disabling it only for use-cases that involve analyzing network behavior or auditing its results. For more information, please have a look at https://github.com/huggingface/diffusers/pull/254 .\n"
     ]
    },
    {
     "data": {
      "application/vnd.jupyter.widget-view+json": {
       "model_id": "431be6afe0aa4ac29a86ac082cab0e1a",
       "version_major": 2,
       "version_minor": 0
      },
      "text/plain": [
       "  0%|          | 0/50 [00:00<?, ?it/s]"
      ]
     },
     "metadata": {},
     "output_type": "display_data"
    },
    {
     "data": {
      "text/html": [
       "<img style=\"float:left; width: 32%; margin:5px;\" src=\"checkpoint-756/ty-TBLU1AUwW2UFDCXWSgQ==/0.jpg?782624618\" /><img style=\"float:left; width: 32%; margin:5px;\" src=\"checkpoint-756/ty-TBLU1AUwW2UFDCXWSgQ==/1.jpg?1721301093\" /><img style=\"float:left; width: 32%; margin:5px;\" src=\"checkpoint-756/ty-TBLU1AUwW2UFDCXWSgQ==/2.jpg?1111117458\" />"
      ],
      "text/plain": [
       "<IPython.core.display.HTML object>"
      ]
     },
     "metadata": {},
     "output_type": "display_data"
    },
    {
     "name": "stdout",
     "output_type": "stream",
     "text": [
      "Checkpoint: models/train_imgs-a-young-man-prior-prior-labeled-sks-cosinelr/checkpoint-756\n"
     ]
    }
   ],
   "source": [
    "for chkpt in sorted(glob.glob(model_path+'/checkpoint-*')):\n",
    "    display(generate(chkpt, Path(chkpt).name, N=3,\n",
    "      prompt=\"sks young man, beautiful oil on canvas portrait\",\n",
    "      negative_prompt=\"cartoon, 3d, (illustration:1.2), ((disfigured)), ((bad art)), ((deformed)), ((poorly drawn)), ((extra limbs)), ((close up)), ((b&w)), weird colors, blurry\"))\n",
    "    print(\"Checkpoint:\", chkpt)"
   ]
  },
  {
   "cell_type": "code",
   "execution_count": 8,
   "id": "7fdd1da5",
   "metadata": {},
   "outputs": [
    {
     "name": "stderr",
     "output_type": "stream",
     "text": [
      "You have disabled the safety checker for <class 'diffusers_modules.local.lpw_stable_diffusion.StableDiffusionLongPromptWeightingPipeline'> by passing `safety_checker=None`. Ensure that you abide to the conditions of the Stable Diffusion license and do not expose unfiltered results in services or applications open to the public. Both the diffusers team and Hugging Face strongly recommend to keep the safety filter enabled in all public facing circumstances, disabling it only for use-cases that involve analyzing network behavior or auditing its results. For more information, please have a look at https://github.com/huggingface/diffusers/pull/254 .\n"
     ]
    },
    {
     "data": {
      "application/vnd.jupyter.widget-view+json": {
       "model_id": "fc042458e9e54b7997731a478b81db2b",
       "version_major": 2,
       "version_minor": 0
      },
      "text/plain": [
       "  0%|          | 0/50 [00:00<?, ?it/s]"
      ]
     },
     "metadata": {},
     "output_type": "display_data"
    },
    {
     "data": {
      "text/html": [
       "<img style=\"float:left; width: 32%; margin:5px;\" src=\"checkpoint-1008/y7IE05-tnoLc7ObcGZUxbQ==/0.jpg?2141405271\" /><img style=\"float:left; width: 32%; margin:5px;\" src=\"checkpoint-1008/y7IE05-tnoLc7ObcGZUxbQ==/1.jpg?1386298766\" /><img style=\"float:left; width: 32%; margin:5px;\" src=\"checkpoint-1008/y7IE05-tnoLc7ObcGZUxbQ==/2.jpg?1673782011\" />"
      ],
      "text/plain": [
       "<IPython.core.display.HTML object>"
      ]
     },
     "metadata": {},
     "output_type": "display_data"
    },
    {
     "name": "stdout",
     "output_type": "stream",
     "text": [
      "Checkpoint: models/train_imgs-a-young-man-prior-prior-labeled-sks-cosinelr/checkpoint-1008\n"
     ]
    },
    {
     "name": "stderr",
     "output_type": "stream",
     "text": [
      "You have disabled the safety checker for <class 'diffusers_modules.local.lpw_stable_diffusion.StableDiffusionLongPromptWeightingPipeline'> by passing `safety_checker=None`. Ensure that you abide to the conditions of the Stable Diffusion license and do not expose unfiltered results in services or applications open to the public. Both the diffusers team and Hugging Face strongly recommend to keep the safety filter enabled in all public facing circumstances, disabling it only for use-cases that involve analyzing network behavior or auditing its results. For more information, please have a look at https://github.com/huggingface/diffusers/pull/254 .\n"
     ]
    },
    {
     "data": {
      "application/vnd.jupyter.widget-view+json": {
       "model_id": "f3a7624d54fd434381a0aa1714182ba4",
       "version_major": 2,
       "version_minor": 0
      },
      "text/plain": [
       "  0%|          | 0/50 [00:00<?, ?it/s]"
      ]
     },
     "metadata": {},
     "output_type": "display_data"
    },
    {
     "data": {
      "text/html": [
       "<img style=\"float:left; width: 32%; margin:5px;\" src=\"checkpoint-1260/Pmj5oPbE6GQo-ZLaTKiSkw==/0.jpg?1820406703\" /><img style=\"float:left; width: 32%; margin:5px;\" src=\"checkpoint-1260/Pmj5oPbE6GQo-ZLaTKiSkw==/1.jpg?1756579139\" /><img style=\"float:left; width: 32%; margin:5px;\" src=\"checkpoint-1260/Pmj5oPbE6GQo-ZLaTKiSkw==/2.jpg?591918002\" />"
      ],
      "text/plain": [
       "<IPython.core.display.HTML object>"
      ]
     },
     "metadata": {},
     "output_type": "display_data"
    },
    {
     "name": "stdout",
     "output_type": "stream",
     "text": [
      "Checkpoint: models/train_imgs-a-young-man-prior-prior-labeled-sks-cosinelr/checkpoint-1260\n"
     ]
    },
    {
     "name": "stderr",
     "output_type": "stream",
     "text": [
      "You have disabled the safety checker for <class 'diffusers_modules.local.lpw_stable_diffusion.StableDiffusionLongPromptWeightingPipeline'> by passing `safety_checker=None`. Ensure that you abide to the conditions of the Stable Diffusion license and do not expose unfiltered results in services or applications open to the public. Both the diffusers team and Hugging Face strongly recommend to keep the safety filter enabled in all public facing circumstances, disabling it only for use-cases that involve analyzing network behavior or auditing its results. For more information, please have a look at https://github.com/huggingface/diffusers/pull/254 .\n"
     ]
    },
    {
     "data": {
      "application/vnd.jupyter.widget-view+json": {
       "model_id": "02201f5ce7fe4a958b579a06acefccd1",
       "version_major": 2,
       "version_minor": 0
      },
      "text/plain": [
       "  0%|          | 0/50 [00:00<?, ?it/s]"
      ]
     },
     "metadata": {},
     "output_type": "display_data"
    },
    {
     "data": {
      "text/html": [
       "<img style=\"float:left; width: 32%; margin:5px;\" src=\"checkpoint-1269/FwfgEOxL9BsirP0a38pRRw==/0.jpg?1241405360\" /><img style=\"float:left; width: 32%; margin:5px;\" src=\"checkpoint-1269/FwfgEOxL9BsirP0a38pRRw==/1.jpg?1581095813\" /><img style=\"float:left; width: 32%; margin:5px;\" src=\"checkpoint-1269/FwfgEOxL9BsirP0a38pRRw==/2.jpg?1567903734\" />"
      ],
      "text/plain": [
       "<IPython.core.display.HTML object>"
      ]
     },
     "metadata": {},
     "output_type": "display_data"
    },
    {
     "name": "stdout",
     "output_type": "stream",
     "text": [
      "Checkpoint: models/train_imgs-a-young-man-prior-prior-labeled-sks-cosinelr/checkpoint-1269\n"
     ]
    },
    {
     "name": "stderr",
     "output_type": "stream",
     "text": [
      "You have disabled the safety checker for <class 'diffusers_modules.local.lpw_stable_diffusion.StableDiffusionLongPromptWeightingPipeline'> by passing `safety_checker=None`. Ensure that you abide to the conditions of the Stable Diffusion license and do not expose unfiltered results in services or applications open to the public. Both the diffusers team and Hugging Face strongly recommend to keep the safety filter enabled in all public facing circumstances, disabling it only for use-cases that involve analyzing network behavior or auditing its results. For more information, please have a look at https://github.com/huggingface/diffusers/pull/254 .\n"
     ]
    },
    {
     "data": {
      "application/vnd.jupyter.widget-view+json": {
       "model_id": "a9c1eb4681f34f17b949273dec5af772",
       "version_major": 2,
       "version_minor": 0
      },
      "text/plain": [
       "  0%|          | 0/50 [00:00<?, ?it/s]"
      ]
     },
     "metadata": {},
     "output_type": "display_data"
    },
    {
     "data": {
      "text/html": [
       "<img style=\"float:left; width: 32%; margin:5px;\" src=\"checkpoint-252/OTYCgxSs6kMAsE1ikS_uhw==/0.jpg?1390545271\" /><img style=\"float:left; width: 32%; margin:5px;\" src=\"checkpoint-252/OTYCgxSs6kMAsE1ikS_uhw==/1.jpg?779411428\" /><img style=\"float:left; width: 32%; margin:5px;\" src=\"checkpoint-252/OTYCgxSs6kMAsE1ikS_uhw==/2.jpg?1459485991\" />"
      ],
      "text/plain": [
       "<IPython.core.display.HTML object>"
      ]
     },
     "metadata": {},
     "output_type": "display_data"
    },
    {
     "name": "stdout",
     "output_type": "stream",
     "text": [
      "Checkpoint: models/train_imgs-a-young-man-prior-prior-labeled-sks-cosinelr/checkpoint-252\n"
     ]
    },
    {
     "name": "stderr",
     "output_type": "stream",
     "text": [
      "You have disabled the safety checker for <class 'diffusers_modules.local.lpw_stable_diffusion.StableDiffusionLongPromptWeightingPipeline'> by passing `safety_checker=None`. Ensure that you abide to the conditions of the Stable Diffusion license and do not expose unfiltered results in services or applications open to the public. Both the diffusers team and Hugging Face strongly recommend to keep the safety filter enabled in all public facing circumstances, disabling it only for use-cases that involve analyzing network behavior or auditing its results. For more information, please have a look at https://github.com/huggingface/diffusers/pull/254 .\n"
     ]
    },
    {
     "data": {
      "application/vnd.jupyter.widget-view+json": {
       "model_id": "b7acf76d6ae1438b8ba8affb808684b2",
       "version_major": 2,
       "version_minor": 0
      },
      "text/plain": [
       "  0%|          | 0/50 [00:00<?, ?it/s]"
      ]
     },
     "metadata": {},
     "output_type": "display_data"
    },
    {
     "data": {
      "text/html": [
       "<img style=\"float:left; width: 32%; margin:5px;\" src=\"checkpoint-504/7dMU0na5N8eTRa3UDXBdiA==/0.jpg?1181992954\" /><img style=\"float:left; width: 32%; margin:5px;\" src=\"checkpoint-504/7dMU0na5N8eTRa3UDXBdiA==/1.jpg?719317768\" /><img style=\"float:left; width: 32%; margin:5px;\" src=\"checkpoint-504/7dMU0na5N8eTRa3UDXBdiA==/2.jpg?465802183\" />"
      ],
      "text/plain": [
       "<IPython.core.display.HTML object>"
      ]
     },
     "metadata": {},
     "output_type": "display_data"
    },
    {
     "name": "stdout",
     "output_type": "stream",
     "text": [
      "Checkpoint: models/train_imgs-a-young-man-prior-prior-labeled-sks-cosinelr/checkpoint-504\n"
     ]
    },
    {
     "name": "stderr",
     "output_type": "stream",
     "text": [
      "You have disabled the safety checker for <class 'diffusers_modules.local.lpw_stable_diffusion.StableDiffusionLongPromptWeightingPipeline'> by passing `safety_checker=None`. Ensure that you abide to the conditions of the Stable Diffusion license and do not expose unfiltered results in services or applications open to the public. Both the diffusers team and Hugging Face strongly recommend to keep the safety filter enabled in all public facing circumstances, disabling it only for use-cases that involve analyzing network behavior or auditing its results. For more information, please have a look at https://github.com/huggingface/diffusers/pull/254 .\n"
     ]
    },
    {
     "data": {
      "application/vnd.jupyter.widget-view+json": {
       "model_id": "2bb3b3cd5b254092803dd7bc7b49ff92",
       "version_major": 2,
       "version_minor": 0
      },
      "text/plain": [
       "  0%|          | 0/50 [00:00<?, ?it/s]"
      ]
     },
     "metadata": {},
     "output_type": "display_data"
    },
    {
     "data": {
      "text/html": [
       "<img style=\"float:left; width: 32%; margin:5px;\" src=\"checkpoint-756/YvKv__9On5KMlWbDEEwVxQ==/0.jpg?575329869\" /><img style=\"float:left; width: 32%; margin:5px;\" src=\"checkpoint-756/YvKv__9On5KMlWbDEEwVxQ==/1.jpg?623734693\" /><img style=\"float:left; width: 32%; margin:5px;\" src=\"checkpoint-756/YvKv__9On5KMlWbDEEwVxQ==/2.jpg?371656914\" />"
      ],
      "text/plain": [
       "<IPython.core.display.HTML object>"
      ]
     },
     "metadata": {},
     "output_type": "display_data"
    },
    {
     "name": "stdout",
     "output_type": "stream",
     "text": [
      "Checkpoint: models/train_imgs-a-young-man-prior-prior-labeled-sks-cosinelr/checkpoint-756\n"
     ]
    }
   ],
   "source": [
    "for chkpt in sorted(glob.glob(model_path+'/checkpoint-*')):\n",
    "    display(generate(chkpt, Path(chkpt).name, N=3,\n",
    "          prompt=\"(snthwve style:1) (nvinkpunk:0.7) sks young man, (hallucinating colorful soap bubbles), by jeremy mann, by sandra chevrier, by dave mckean and richard avedon and maciej kuciara, punk rock, tank man, high detailed, 8k, sharp focus, natural lighting\",\n",
    "      negative_prompt=\"cartoon, 3d, (illustration:1.2), ((disfigured)), ((bad art)), ((deformed)), ((poorly drawn)), ((extra limbs)), ((close up)), ((b&w)), weird colors, blurry\"))\n",
    "    print(\"Checkpoint:\", chkpt)"
   ]
  },
  {
   "cell_type": "code",
   "execution_count": 9,
   "id": "a372dc16",
   "metadata": {},
   "outputs": [
    {
     "name": "stderr",
     "output_type": "stream",
     "text": [
      "You have disabled the safety checker for <class 'diffusers_modules.local.lpw_stable_diffusion.StableDiffusionLongPromptWeightingPipeline'> by passing `safety_checker=None`. Ensure that you abide to the conditions of the Stable Diffusion license and do not expose unfiltered results in services or applications open to the public. Both the diffusers team and Hugging Face strongly recommend to keep the safety filter enabled in all public facing circumstances, disabling it only for use-cases that involve analyzing network behavior or auditing its results. For more information, please have a look at https://github.com/huggingface/diffusers/pull/254 .\n"
     ]
    },
    {
     "data": {
      "application/vnd.jupyter.widget-view+json": {
       "model_id": "36951398af2349f594a0a798f2c331a0",
       "version_major": 2,
       "version_minor": 0
      },
      "text/plain": [
       "  0%|          | 0/50 [00:00<?, ?it/s]"
      ]
     },
     "metadata": {},
     "output_type": "display_data"
    },
    {
     "data": {
      "text/html": [
       "<img style=\"float:left; width: 32%; margin:5px;\" src=\"checkpoint-1008/Uli7UtRunPEwoEdnNuEG0w==/0.jpg?5597807\" /><img style=\"float:left; width: 32%; margin:5px;\" src=\"checkpoint-1008/Uli7UtRunPEwoEdnNuEG0w==/1.jpg?1889478305\" /><img style=\"float:left; width: 32%; margin:5px;\" src=\"checkpoint-1008/Uli7UtRunPEwoEdnNuEG0w==/2.jpg?1432450606\" />"
      ],
      "text/plain": [
       "<IPython.core.display.HTML object>"
      ]
     },
     "metadata": {},
     "output_type": "display_data"
    },
    {
     "name": "stdout",
     "output_type": "stream",
     "text": [
      "Checkpoint: models/train_imgs-a-young-man-prior-prior-labeled-sks-cosinelr/checkpoint-1008\n"
     ]
    },
    {
     "name": "stderr",
     "output_type": "stream",
     "text": [
      "You have disabled the safety checker for <class 'diffusers_modules.local.lpw_stable_diffusion.StableDiffusionLongPromptWeightingPipeline'> by passing `safety_checker=None`. Ensure that you abide to the conditions of the Stable Diffusion license and do not expose unfiltered results in services or applications open to the public. Both the diffusers team and Hugging Face strongly recommend to keep the safety filter enabled in all public facing circumstances, disabling it only for use-cases that involve analyzing network behavior or auditing its results. For more information, please have a look at https://github.com/huggingface/diffusers/pull/254 .\n"
     ]
    },
    {
     "data": {
      "application/vnd.jupyter.widget-view+json": {
       "model_id": "3f7582c1bb2446119845e27c1a1fb554",
       "version_major": 2,
       "version_minor": 0
      },
      "text/plain": [
       "  0%|          | 0/50 [00:00<?, ?it/s]"
      ]
     },
     "metadata": {},
     "output_type": "display_data"
    },
    {
     "data": {
      "text/html": [
       "<img style=\"float:left; width: 32%; margin:5px;\" src=\"checkpoint-1260/y4BSlGBWY0YyTi0JqTSw-A==/0.jpg?1183190052\" /><img style=\"float:left; width: 32%; margin:5px;\" src=\"checkpoint-1260/y4BSlGBWY0YyTi0JqTSw-A==/1.jpg?1555500428\" /><img style=\"float:left; width: 32%; margin:5px;\" src=\"checkpoint-1260/y4BSlGBWY0YyTi0JqTSw-A==/2.jpg?227019711\" />"
      ],
      "text/plain": [
       "<IPython.core.display.HTML object>"
      ]
     },
     "metadata": {},
     "output_type": "display_data"
    },
    {
     "name": "stdout",
     "output_type": "stream",
     "text": [
      "Checkpoint: models/train_imgs-a-young-man-prior-prior-labeled-sks-cosinelr/checkpoint-1260\n"
     ]
    },
    {
     "name": "stderr",
     "output_type": "stream",
     "text": [
      "You have disabled the safety checker for <class 'diffusers_modules.local.lpw_stable_diffusion.StableDiffusionLongPromptWeightingPipeline'> by passing `safety_checker=None`. Ensure that you abide to the conditions of the Stable Diffusion license and do not expose unfiltered results in services or applications open to the public. Both the diffusers team and Hugging Face strongly recommend to keep the safety filter enabled in all public facing circumstances, disabling it only for use-cases that involve analyzing network behavior or auditing its results. For more information, please have a look at https://github.com/huggingface/diffusers/pull/254 .\n"
     ]
    },
    {
     "data": {
      "application/vnd.jupyter.widget-view+json": {
       "model_id": "da851a8119c8476aac5bb4eef00563b2",
       "version_major": 2,
       "version_minor": 0
      },
      "text/plain": [
       "  0%|          | 0/50 [00:00<?, ?it/s]"
      ]
     },
     "metadata": {},
     "output_type": "display_data"
    },
    {
     "data": {
      "text/html": [
       "<img style=\"float:left; width: 32%; margin:5px;\" src=\"checkpoint-1269/i31x9_TyQ_BCVfKzy6pBTw==/0.jpg?1984492633\" /><img style=\"float:left; width: 32%; margin:5px;\" src=\"checkpoint-1269/i31x9_TyQ_BCVfKzy6pBTw==/1.jpg?1779425207\" /><img style=\"float:left; width: 32%; margin:5px;\" src=\"checkpoint-1269/i31x9_TyQ_BCVfKzy6pBTw==/2.jpg?1018180846\" />"
      ],
      "text/plain": [
       "<IPython.core.display.HTML object>"
      ]
     },
     "metadata": {},
     "output_type": "display_data"
    },
    {
     "name": "stdout",
     "output_type": "stream",
     "text": [
      "Checkpoint: models/train_imgs-a-young-man-prior-prior-labeled-sks-cosinelr/checkpoint-1269\n"
     ]
    },
    {
     "name": "stderr",
     "output_type": "stream",
     "text": [
      "You have disabled the safety checker for <class 'diffusers_modules.local.lpw_stable_diffusion.StableDiffusionLongPromptWeightingPipeline'> by passing `safety_checker=None`. Ensure that you abide to the conditions of the Stable Diffusion license and do not expose unfiltered results in services or applications open to the public. Both the diffusers team and Hugging Face strongly recommend to keep the safety filter enabled in all public facing circumstances, disabling it only for use-cases that involve analyzing network behavior or auditing its results. For more information, please have a look at https://github.com/huggingface/diffusers/pull/254 .\n"
     ]
    },
    {
     "data": {
      "application/vnd.jupyter.widget-view+json": {
       "model_id": "f7a84ceb63a04272b4bb789c70e9c258",
       "version_major": 2,
       "version_minor": 0
      },
      "text/plain": [
       "  0%|          | 0/50 [00:00<?, ?it/s]"
      ]
     },
     "metadata": {},
     "output_type": "display_data"
    },
    {
     "data": {
      "text/html": [
       "<img style=\"float:left; width: 32%; margin:5px;\" src=\"checkpoint-252/ffBqUU9Gs7rWfkuLthBkbw==/0.jpg?1298339373\" /><img style=\"float:left; width: 32%; margin:5px;\" src=\"checkpoint-252/ffBqUU9Gs7rWfkuLthBkbw==/1.jpg?82803866\" /><img style=\"float:left; width: 32%; margin:5px;\" src=\"checkpoint-252/ffBqUU9Gs7rWfkuLthBkbw==/2.jpg?430017020\" />"
      ],
      "text/plain": [
       "<IPython.core.display.HTML object>"
      ]
     },
     "metadata": {},
     "output_type": "display_data"
    },
    {
     "name": "stdout",
     "output_type": "stream",
     "text": [
      "Checkpoint: models/train_imgs-a-young-man-prior-prior-labeled-sks-cosinelr/checkpoint-252\n"
     ]
    },
    {
     "name": "stderr",
     "output_type": "stream",
     "text": [
      "You have disabled the safety checker for <class 'diffusers_modules.local.lpw_stable_diffusion.StableDiffusionLongPromptWeightingPipeline'> by passing `safety_checker=None`. Ensure that you abide to the conditions of the Stable Diffusion license and do not expose unfiltered results in services or applications open to the public. Both the diffusers team and Hugging Face strongly recommend to keep the safety filter enabled in all public facing circumstances, disabling it only for use-cases that involve analyzing network behavior or auditing its results. For more information, please have a look at https://github.com/huggingface/diffusers/pull/254 .\n"
     ]
    },
    {
     "data": {
      "application/vnd.jupyter.widget-view+json": {
       "model_id": "b0353a732c684677952ac5d640ad246b",
       "version_major": 2,
       "version_minor": 0
      },
      "text/plain": [
       "  0%|          | 0/50 [00:00<?, ?it/s]"
      ]
     },
     "metadata": {},
     "output_type": "display_data"
    },
    {
     "data": {
      "text/html": [
       "<img style=\"float:left; width: 32%; margin:5px;\" src=\"checkpoint-504/oeFhVEmutQ9ESOb8sjFHYQ==/0.jpg?1861239744\" /><img style=\"float:left; width: 32%; margin:5px;\" src=\"checkpoint-504/oeFhVEmutQ9ESOb8sjFHYQ==/1.jpg?388947982\" /><img style=\"float:left; width: 32%; margin:5px;\" src=\"checkpoint-504/oeFhVEmutQ9ESOb8sjFHYQ==/2.jpg?1372283500\" />"
      ],
      "text/plain": [
       "<IPython.core.display.HTML object>"
      ]
     },
     "metadata": {},
     "output_type": "display_data"
    },
    {
     "name": "stdout",
     "output_type": "stream",
     "text": [
      "Checkpoint: models/train_imgs-a-young-man-prior-prior-labeled-sks-cosinelr/checkpoint-504\n"
     ]
    },
    {
     "name": "stderr",
     "output_type": "stream",
     "text": [
      "You have disabled the safety checker for <class 'diffusers_modules.local.lpw_stable_diffusion.StableDiffusionLongPromptWeightingPipeline'> by passing `safety_checker=None`. Ensure that you abide to the conditions of the Stable Diffusion license and do not expose unfiltered results in services or applications open to the public. Both the diffusers team and Hugging Face strongly recommend to keep the safety filter enabled in all public facing circumstances, disabling it only for use-cases that involve analyzing network behavior or auditing its results. For more information, please have a look at https://github.com/huggingface/diffusers/pull/254 .\n"
     ]
    },
    {
     "data": {
      "application/vnd.jupyter.widget-view+json": {
       "model_id": "5f9e5eb220c74a13b20404cc1d04cf25",
       "version_major": 2,
       "version_minor": 0
      },
      "text/plain": [
       "  0%|          | 0/50 [00:00<?, ?it/s]"
      ]
     },
     "metadata": {},
     "output_type": "display_data"
    },
    {
     "data": {
      "text/html": [
       "<img style=\"float:left; width: 32%; margin:5px;\" src=\"checkpoint-756/VPprkRgB8gfK_-805C71gg==/0.jpg?1591832823\" /><img style=\"float:left; width: 32%; margin:5px;\" src=\"checkpoint-756/VPprkRgB8gfK_-805C71gg==/1.jpg?341632802\" /><img style=\"float:left; width: 32%; margin:5px;\" src=\"checkpoint-756/VPprkRgB8gfK_-805C71gg==/2.jpg?2007614813\" />"
      ],
      "text/plain": [
       "<IPython.core.display.HTML object>"
      ]
     },
     "metadata": {},
     "output_type": "display_data"
    },
    {
     "name": "stdout",
     "output_type": "stream",
     "text": [
      "Checkpoint: models/train_imgs-a-young-man-prior-prior-labeled-sks-cosinelr/checkpoint-756\n"
     ]
    }
   ],
   "source": [
    "for chkpt in sorted(glob.glob(model_path+'/checkpoint-*')):\n",
    "    display(generate(chkpt, Path(chkpt).name, N=3,\n",
    "      prompt=\"sks young man (snthwve style:1) (nvinkpunk:0.7), (hallucinating colorful soap bubbles), by jeremy mann, by sandra chevrier, by dave mckean and richard avedon and maciej kuciara, punk rock, tank man, high detailed, 8k, sharp focus, natural lighting\",\n",
    "      negative_prompt=\"cartoon, 3d, (illustration:1.2), ((disfigured)), ((bad art)), ((deformed)), ((poorly drawn)), ((extra limbs)), ((close up)), ((b&w)), weird colors, blurry\"))\n",
    "    print(\"Checkpoint:\", chkpt)"
   ]
  },
  {
   "cell_type": "code",
   "execution_count": 17,
   "id": "ec4f26bf",
   "metadata": {},
   "outputs": [
    {
     "name": "stderr",
     "output_type": "stream",
     "text": [
      "You have disabled the safety checker for <class 'diffusers_modules.local.lpw_stable_diffusion.StableDiffusionLongPromptWeightingPipeline'> by passing `safety_checker=None`. Ensure that you abide to the conditions of the Stable Diffusion license and do not expose unfiltered results in services or applications open to the public. Both the diffusers team and Hugging Face strongly recommend to keep the safety filter enabled in all public facing circumstances, disabling it only for use-cases that involve analyzing network behavior or auditing its results. For more information, please have a look at https://github.com/huggingface/diffusers/pull/254 .\n"
     ]
    }
   ],
   "source": [
    "model_path = 'models/train_imgs-a-young-man-prior-prior-labeled-sks-cosinelr'+'/checkpoint-756'\n",
    "model = load_model(model_path)"
   ]
  },
  {
   "cell_type": "code",
   "execution_count": 20,
   "id": "319e1d1e",
   "metadata": {},
   "outputs": [
    {
     "data": {
      "application/vnd.jupyter.widget-view+json": {
       "model_id": "e94662cb091c418e9cb3680618b3744d",
       "version_major": 2,
       "version_minor": 0
      },
      "text/plain": [
       "  0%|          | 0/100 [00:00<?, ?it/s]"
      ]
     },
     "metadata": {},
     "output_type": "display_data"
    },
    {
     "data": {
      "text/html": [
       "<img style=\"float:left; width: 32%; margin:5px;\" src=\"checkpoint-756/J8Vt7920YUA6JQrnxug5Bw==/0.jpg?354059675\" /><img style=\"float:left; width: 32%; margin:5px;\" src=\"checkpoint-756/J8Vt7920YUA6JQrnxug5Bw==/1.jpg?2065780939\" /><img style=\"float:left; width: 32%; margin:5px;\" src=\"checkpoint-756/J8Vt7920YUA6JQrnxug5Bw==/2.jpg?1357924955\" />"
      ],
      "text/plain": [
       "<IPython.core.display.HTML object>"
      ]
     },
     "metadata": {},
     "output_type": "display_data"
    },
    {
     "name": "stdout",
     "output_type": "stream",
     "text": [
      "Weight: tensor(0.8000)\n"
     ]
    },
    {
     "data": {
      "application/vnd.jupyter.widget-view+json": {
       "model_id": "6bcf8688095c4da6879968464b64a050",
       "version_major": 2,
       "version_minor": 0
      },
      "text/plain": [
       "  0%|          | 0/100 [00:00<?, ?it/s]"
      ]
     },
     "metadata": {},
     "output_type": "display_data"
    },
    {
     "data": {
      "text/html": [
       "<img style=\"float:left; width: 32%; margin:5px;\" src=\"checkpoint-756/oJ_5uPG7zSd5GZNmubH0lQ==/0.jpg?1047920806\" /><img style=\"float:left; width: 32%; margin:5px;\" src=\"checkpoint-756/oJ_5uPG7zSd5GZNmubH0lQ==/1.jpg?906728551\" /><img style=\"float:left; width: 32%; margin:5px;\" src=\"checkpoint-756/oJ_5uPG7zSd5GZNmubH0lQ==/2.jpg?334834919\" />"
      ],
      "text/plain": [
       "<IPython.core.display.HTML object>"
      ]
     },
     "metadata": {},
     "output_type": "display_data"
    },
    {
     "name": "stdout",
     "output_type": "stream",
     "text": [
      "Weight: tensor(0.9400)\n"
     ]
    },
    {
     "data": {
      "application/vnd.jupyter.widget-view+json": {
       "model_id": "04cd0c7f32ec40f88d56573ec09d48fc",
       "version_major": 2,
       "version_minor": 0
      },
      "text/plain": [
       "  0%|          | 0/100 [00:00<?, ?it/s]"
      ]
     },
     "metadata": {},
     "output_type": "display_data"
    },
    {
     "data": {
      "text/html": [
       "<img style=\"float:left; width: 32%; margin:5px;\" src=\"checkpoint-756/leef32lzG-4MIz6iFQy6xg==/0.jpg?538626540\" /><img style=\"float:left; width: 32%; margin:5px;\" src=\"checkpoint-756/leef32lzG-4MIz6iFQy6xg==/1.jpg?1881824032\" /><img style=\"float:left; width: 32%; margin:5px;\" src=\"checkpoint-756/leef32lzG-4MIz6iFQy6xg==/2.jpg?350061920\" />"
      ],
      "text/plain": [
       "<IPython.core.display.HTML object>"
      ]
     },
     "metadata": {},
     "output_type": "display_data"
    },
    {
     "name": "stdout",
     "output_type": "stream",
     "text": [
      "Weight: tensor(1.0800)\n"
     ]
    },
    {
     "data": {
      "application/vnd.jupyter.widget-view+json": {
       "model_id": "5ef68a4fec0442d4a9bcf1019662d88d",
       "version_major": 2,
       "version_minor": 0
      },
      "text/plain": [
       "  0%|          | 0/100 [00:00<?, ?it/s]"
      ]
     },
     "metadata": {},
     "output_type": "display_data"
    },
    {
     "data": {
      "text/html": [
       "<img style=\"float:left; width: 32%; margin:5px;\" src=\"checkpoint-756/VOzcFCe4lDVW7hcNkRVDDg==/0.jpg?371087316\" /><img style=\"float:left; width: 32%; margin:5px;\" src=\"checkpoint-756/VOzcFCe4lDVW7hcNkRVDDg==/1.jpg?757556091\" /><img style=\"float:left; width: 32%; margin:5px;\" src=\"checkpoint-756/VOzcFCe4lDVW7hcNkRVDDg==/2.jpg?2038667988\" />"
      ],
      "text/plain": [
       "<IPython.core.display.HTML object>"
      ]
     },
     "metadata": {},
     "output_type": "display_data"
    },
    {
     "name": "stdout",
     "output_type": "stream",
     "text": [
      "Weight: tensor(1.2200)\n"
     ]
    },
    {
     "data": {
      "application/vnd.jupyter.widget-view+json": {
       "model_id": "2c9541f4b92a4a7bbcb6ebdebf7ff86e",
       "version_major": 2,
       "version_minor": 0
      },
      "text/plain": [
       "  0%|          | 0/100 [00:00<?, ?it/s]"
      ]
     },
     "metadata": {},
     "output_type": "display_data"
    },
    {
     "data": {
      "text/html": [
       "<img style=\"float:left; width: 32%; margin:5px;\" src=\"checkpoint-756/ITScMmuvDR9lm-ORC5ZyWw==/0.jpg?1396636800\" /><img style=\"float:left; width: 32%; margin:5px;\" src=\"checkpoint-756/ITScMmuvDR9lm-ORC5ZyWw==/1.jpg?1225844930\" /><img style=\"float:left; width: 32%; margin:5px;\" src=\"checkpoint-756/ITScMmuvDR9lm-ORC5ZyWw==/2.jpg?1696217992\" />"
      ],
      "text/plain": [
       "<IPython.core.display.HTML object>"
      ]
     },
     "metadata": {},
     "output_type": "display_data"
    },
    {
     "name": "stdout",
     "output_type": "stream",
     "text": [
      "Weight: tensor(1.3600)\n"
     ]
    },
    {
     "data": {
      "application/vnd.jupyter.widget-view+json": {
       "model_id": "91d445f4aad146c682b2d51e7d9188aa",
       "version_major": 2,
       "version_minor": 0
      },
      "text/plain": [
       "  0%|          | 0/100 [00:00<?, ?it/s]"
      ]
     },
     "metadata": {},
     "output_type": "display_data"
    },
    {
     "data": {
      "text/html": [
       "<img style=\"float:left; width: 32%; margin:5px;\" src=\"checkpoint-756/_I1z0BVm8kDMj8V2aW6F5w==/0.jpg?1779712640\" /><img style=\"float:left; width: 32%; margin:5px;\" src=\"checkpoint-756/_I1z0BVm8kDMj8V2aW6F5w==/1.jpg?1477610993\" /><img style=\"float:left; width: 32%; margin:5px;\" src=\"checkpoint-756/_I1z0BVm8kDMj8V2aW6F5w==/2.jpg?315891820\" />"
      ],
      "text/plain": [
       "<IPython.core.display.HTML object>"
      ]
     },
     "metadata": {},
     "output_type": "display_data"
    },
    {
     "name": "stdout",
     "output_type": "stream",
     "text": [
      "Weight: tensor(1.5000)\n"
     ]
    }
   ],
   "source": [
    "for w in torch.linspace(0.8,1.5,6):\n",
    "    display(generate(model, f'weight-{w}', N=3, steps=100,\n",
    "      prompt=f\"(sks young man:{w}) (snthwve style:1) (nvinkpunk:0.7), (hallucinating colorful soap bubbles), by jeremy mann, by sandra chevrier, by dave mckean and richard avedon and maciej kuciara, punk rock, tank boy, high detailed, 8k, sharp focus, natural lighting\",\n",
    "      negative_prompt=\"cartoon, 3d, (illustration:1.2), ((disfigured)), ((bad art)), ((deformed)), ((poorly drawn)), ((extra limbs)), ((close up)), ((b&w)), weird colors, blurry\"))\n",
    "    print(\"Weight:\", w)"
   ]
  },
  {
   "cell_type": "code",
   "execution_count": null,
   "id": "ec38eede",
   "metadata": {},
   "outputs": [],
   "source": []
  }
 ],
 "metadata": {
  "kernelspec": {
   "display_name": "diffusers",
   "language": "python",
   "name": "diffusers"
  },
  "language_info": {
   "codemirror_mode": {
    "name": "ipython",
    "version": 3
   },
   "file_extension": ".py",
   "mimetype": "text/x-python",
   "name": "python",
   "nbconvert_exporter": "python",
   "pygments_lexer": "ipython3",
   "version": "3.9.5"
  }
 },
 "nbformat": 4,
 "nbformat_minor": 5
}
