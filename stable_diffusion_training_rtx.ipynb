{
 "cells": [
  {
   "cell_type": "code",
   "execution_count": null,
   "id": "91ea40f6",
   "metadata": {},
   "outputs": [],
   "source": [
    "import json, gc\n",
    "from IPython.display import HTML\n",
    "import glob\n",
    "import math\n",
    "from pathlib import Path\n",
    "\n",
    "model_path  = ''\n",
    "def train_model(dataset,\n",
    "                instance_prompt=\"sks young man\",\n",
    "                class_prompt=\"a young man\",\n",
    "                base=\"ItsJayQz/SynthwavePunk-v2\",\n",
    "                resolution=512,\n",
    "                max_train_steps=None):\n",
    "    \n",
    "    global pipe\n",
    "    pipe = None\n",
    "    gc.collect()\n",
    "\n",
    "    if class_prompt:\n",
    "        prior_dir = f\"{class_prompt.replace(' ','-')}-prior\"\n",
    "        #class_imgs = len(get_image_files(prior_dir))\n",
    "        theme_args = f'''--class_data_dir=\"{prior_dir}\" \\\n",
    "          --with_prior_preservation \\\n",
    "          --class_prompt=\"{class_prompt}\" \\\n",
    "          --num_class_images=\"200\"\n",
    "        '''\n",
    "    else:\n",
    "        theme_args = []\n",
    "        \n",
    "    instance_imgs = [f for f in Path(dataset).iterdir() if f.name != \"labels.txt\"]\n",
    "    \n",
    "    global model_path\n",
    "    model_dir = f'models/{dataset}-{prior_dir}-prior-labeled-sks-cosinelr'\n",
    "    model_path = model_dir\n",
    "    \n",
    "    if max_train_steps is None:\n",
    "        max_train_steps = int((math.log10(len(instance_imgs)) * 2 + 1) * 400)\n",
    "    \n",
    "    !accelerate launch train_dreambooth.py \\\n",
    "      --pretrained_model_name_or_path={base}  \\\n",
    "      --instance_data_dir={dataset} \\\n",
    "      --output_dir={model_dir} \\\n",
    "      --with_prior_preservation --prior_loss_weight=1.0 \\\n",
    "      --save_interval={max_train_steps//5} \\\n",
    "      --instance_prompt=\"{instance_prompt}\" \\\n",
    "      --class_prompt=\"{class_prompt}\" \\\n",
    "      --resolution={resolution} \\\n",
    "      --train_batch_size=1 \\\n",
    "      --gradient_accumulation_steps=2 --gradient_checkpointing \\\n",
    "      --use_8bit_adam \\\n",
    "      --learning_rate=2e-6 \\\n",
    "      --lr_scheduler=\"constant\" \\\n",
    "      --lr_warmup_steps=0 \\\n",
    "      --max_train_steps={max_train_steps} \\\n",
    "      {theme_args}\n",
    "    \n",
    "    with open(f'{model_dir}/my_metadata.json', 'w') as f:\n",
    "        json.dump(dict(\n",
    "                model = model_dir,\n",
    "                dataset=dataset,\n",
    "                instance_prompt=instance_prompt,\n",
    "                class_prompt=class_prompt,\n",
    "                base=base,\n",
    "                max_train_steps=max_train_steps,\n",
    "                resolution=resolution,\n",
    "        ), f)"
   ]
  },
  {
   "cell_type": "code",
   "execution_count": null,
   "id": "614610ba",
   "metadata": {},
   "outputs": [],
   "source": [
    "from diffusers import DiffusionPipeline\n",
    "import torch\n",
    "import os\n",
    "import random\n",
    "from pathlib import Path\n",
    "\n",
    "def load_model(model_id):\n",
    "    pipe = DiffusionPipeline.from_pretrained(model_id, custom_pipeline=\"./lpw_stable_diffusion.py\", torch_dtype=torch.float16).to(\"cuda\")\n",
    "    pipe.modeldir = model_id\n",
    "    return pipe\n",
    "\n",
    "import os,base64\n",
    "\n",
    "def generate(model_id, _dirname, prompt, negative_prompt=None, seed=31337, steps=50, N=9, w=512, h=512, guidance_scale=9):\n",
    "    generators = [torch.Generator(device=\"cuda\").manual_seed(seed + i*512) for i in range(N)]\n",
    "    if isinstance(model_id, str):\n",
    "        pipe = DiffusionPipeline.from_pretrained(model_id, custom_pipeline=\"./lpw_stable_diffusion.py\", torch_dtype=torch.float16).to(\"cuda\")\n",
    "    else:\n",
    "        pipe = model_id\n",
    "        model_id = pipe.modeldir\n",
    "    \n",
    "    images = pipe(prompt, negative_prompt=negative_prompt, num_inference_steps=steps, guidance_scale=guidance_scale, generator=generators, num_images_per_prompt=N, width=w, height=h).images\n",
    "    \n",
    "    dirname = f'{Path(model_id).name}/{base64.urlsafe_b64encode(os.urandom(16)).decode(\"ascii\")}'\n",
    "    !rm -rf {dirname} && mkdir -p {dirname}\n",
    "    with open(f'{dirname}/meta.json', 'w') as f:\n",
    "        json.dump(dict(\n",
    "            model_id = model_id,\n",
    "            prompt = prompt,\n",
    "            negative_prompt = negative_prompt,\n",
    "            seed = seed,\n",
    "            steps = steps,\n",
    "            w = w,\n",
    "            h = h,\n",
    "            guidance_scale = guidance_scale,\n",
    "        ), f)\n",
    "    for i,img in enumerate(images): img.save(f'{dirname}/{i}.jpg')\n",
    "    del pipe\n",
    "    return HTML(''.join([f'<img style=\"float:left; width: 32%; margin:5px;\" src=\"{dirname}/{i}.jpg?{random.randint(0,2**31)}\" />' for i in range(N)]))"
   ]
  },
  {
   "cell_type": "code",
   "execution_count": null,
   "id": "6a48e3b0",
   "metadata": {},
   "outputs": [],
   "source": [
    "# import bitsandbytes\n",
    "train_model(\"train_imgs\")"
   ]
  },
  {
   "cell_type": "code",
   "execution_count": null,
   "id": "ccc2d1ba",
   "metadata": {},
   "outputs": [],
   "source": [
    "model_path"
   ]
  },
  {
   "cell_type": "code",
   "execution_count": null,
   "id": "8fe06759",
   "metadata": {},
   "outputs": [],
   "source": [
    "for chkpt in sorted(glob.glob(model_path+'/checkpoint-*')):\n",
    "    display(generate(chkpt, Path(chkpt).name, N=3,\n",
    "      prompt=\"beautiful portrait photo of sks young man\",\n",
    "      negative_prompt=\"cartoon, 3d, (illustration:1.2), ((disfigured)), ((bad art)), ((deformed)), ((poorly drawn)), ((extra limbs)), ((close up)), ((b&w)), weird colors, blurry\"))\n",
    "    print(\"Checkpoint:\", chkpt)"
   ]
  },
  {
   "cell_type": "code",
   "execution_count": null,
   "id": "b25e11ce",
   "metadata": {
    "scrolled": true
   },
   "outputs": [],
   "source": [
    "for chkpt in sorted(glob.glob(model_path+'/checkpoint-*')):\n",
    "    display(generate(chkpt, Path(chkpt).name, N=3,\n",
    "      prompt=\"sks young man, beautiful oil on canvas portrait\",\n",
    "      negative_prompt=\"cartoon, 3d, (illustration:1.2), ((disfigured)), ((bad art)), ((deformed)), ((poorly drawn)), ((extra limbs)), ((close up)), ((b&w)), weird colors, blurry\"))\n",
    "    print(\"Checkpoint:\", chkpt)"
   ]
  },
  {
   "cell_type": "code",
   "execution_count": null,
   "id": "7fdd1da5",
   "metadata": {},
   "outputs": [],
   "source": [
    "for chkpt in sorted(glob.glob(model_path+'/checkpoint-*')):\n",
    "    display(generate(chkpt, Path(chkpt).name, N=3,\n",
    "          prompt=\"(snthwve style:1) (nvinkpunk:0.7) sks young man, (hallucinating colorful soap bubbles), by jeremy mann, by sandra chevrier, by dave mckean and richard avedon and maciej kuciara, punk rock, tank man, high detailed, 8k, sharp focus, natural lighting\",\n",
    "      negative_prompt=\"cartoon, 3d, (illustration:1.2), ((disfigured)), ((bad art)), ((deformed)), ((poorly drawn)), ((extra limbs)), ((close up)), ((b&w)), weird colors, blurry\"))\n",
    "    print(\"Checkpoint:\", chkpt)"
   ]
  },
  {
   "cell_type": "code",
   "execution_count": null,
   "id": "a372dc16",
   "metadata": {},
   "outputs": [],
   "source": [
    "for chkpt in sorted(glob.glob(model_path+'/checkpoint-*')):\n",
    "    display(generate(chkpt, Path(chkpt).name, N=3,\n",
    "      prompt=\"sks young man (snthwve style:1) (nvinkpunk:0.7), (hallucinating colorful soap bubbles), by jeremy mann, by sandra chevrier, by dave mckean and richard avedon and maciej kuciara, punk rock, tank man, high detailed, 8k, sharp focus, natural lighting\",\n",
    "      negative_prompt=\"cartoon, 3d, (illustration:1.2), ((disfigured)), ((bad art)), ((deformed)), ((poorly drawn)), ((extra limbs)), ((close up)), ((b&w)), weird colors, blurry\"))\n",
    "    print(\"Checkpoint:\", chkpt)"
   ]
  },
  {
   "cell_type": "code",
   "execution_count": null,
   "id": "ec4f26bf",
   "metadata": {},
   "outputs": [],
   "source": [
    "model_path = 'models/train_imgs-a-young-man-prior-prior-labeled-sks-cosinelr'+'/checkpoint-756'\n",
    "model = load_model(model_path)"
   ]
  },
  {
   "cell_type": "code",
   "execution_count": null,
   "id": "319e1d1e",
   "metadata": {},
   "outputs": [],
   "source": [
    "for w in torch.linspace(0.8,1.5,6):\n",
    "    display(generate(model, f'weight-{w}', N=3, steps=100,\n",
    "      prompt=f\"(sks young man:{w}) (snthwve style:1) (nvinkpunk:0.7), (hallucinating colorful soap bubbles), by jeremy mann, by sandra chevrier, by dave mckean and richard avedon and maciej kuciara, punk rock, tank boy, high detailed, 8k, sharp focus, natural lighting\",\n",
    "      negative_prompt=\"cartoon, 3d, (illustration:1.2), ((disfigured)), ((bad art)), ((deformed)), ((poorly drawn)), ((extra limbs)), ((close up)), ((b&w)), weird colors, blurry\"))\n",
    "    print(\"Weight:\", w)"
   ]
  },
  {
   "cell_type": "code",
   "execution_count": null,
   "id": "ec38eede",
   "metadata": {},
   "outputs": [],
   "source": []
  }
 ],
 "metadata": {
  "kernelspec": {
   "display_name": "diffusers",
   "language": "python",
   "name": "diffusers"
  },
  "language_info": {
   "codemirror_mode": {
    "name": "ipython",
    "version": 3
   },
   "file_extension": ".py",
   "mimetype": "text/x-python",
   "name": "python",
   "nbconvert_exporter": "python",
   "pygments_lexer": "ipython3",
   "version": "3.9.5"
  }
 },
 "nbformat": 4,
 "nbformat_minor": 5
}
