{
 "cells": [
  {
   "attachments": {},
   "cell_type": "markdown",
   "id": "d4d25665",
   "metadata": {},
   "source": [
    "# Stable Diffusion Finetuning\n",
    "Want to generate images that look a somewhat like you? Yes, you're at the right place. The fine-tuning takes about 15 minutes which would enable us to generate loads of different style images based on the data used for fine-tuning.\n",
    "\n",
    "- Create a folder ```train_imgs``` and add 5-10 images; could be portraits, close-ups or full body images.\n",
    "- Don't forget to change the ```instance_prompt``` and ```class_prompt``` in ```train_model``` function in the following cell to let the model know what it has to basically learn corresponding to the images we provide."
   ]
  },
  {
   "cell_type": "code",
   "execution_count": null,
   "id": "91ea40f6",
   "metadata": {},
   "outputs": [],
   "source": [
    "import json, gc\n",
    "from IPython.display import HTML\n",
    "import glob\n",
    "import math\n",
    "from pathlib import Path\n",
    "\n",
    "model_path  = ''\n",
    "def train_model(dataset,\n",
    "                instance_prompt=\"sks young woman\",\n",
    "                class_prompt=\"a young woman\",\n",
    "                base=\"ItsJayQz/SynthwavePunk-v2\",\n",
    "                resolution=512,\n",
    "                max_train_steps=None):\n",
    "    \n",
    "    global pipe\n",
    "    pipe = None\n",
    "    gc.collect()\n",
    "\n",
    "    if class_prompt:\n",
    "        prior_dir = f\"{class_prompt.replace(' ','-')}-prior\"\n",
    "        #class_imgs = len(get_image_files(prior_dir))\n",
    "        theme_args = f'''--class_data_dir=\"{prior_dir}\" \\\n",
    "          --with_prior_preservation \\\n",
    "          --class_prompt=\"{class_prompt}\" \\\n",
    "          --num_class_images=\"200\"\n",
    "        '''\n",
    "    else:\n",
    "        theme_args = []\n",
    "        \n",
    "    instance_imgs = [f for f in Path(dataset).iterdir() if f.name != \"labels.txt\"]\n",
    "    \n",
    "    global model_path\n",
    "    model_dir = f'models/{dataset}-{prior_dir}-prior-labeled-sks-cosinelr'\n",
    "    model_path = model_dir\n",
    "    \n",
    "    if max_train_steps is None:\n",
    "        max_train_steps = int((math.log10(len(instance_imgs)) * 2 + 1) * 400)\n",
    "    \n",
    "    !accelerate launch train_dreambooth.py \\\n",
    "      --pretrained_model_name_or_path={base}  \\\n",
    "      --instance_data_dir={dataset} \\\n",
    "      --output_dir={model_dir} \\\n",
    "      --with_prior_preservation --prior_loss_weight=1.0 \\\n",
    "      --save_interval={max_train_steps//5} \\\n",
    "      --instance_prompt=\"{instance_prompt}\" \\\n",
    "      --class_prompt=\"{class_prompt}\" \\\n",
    "      --resolution={resolution} \\\n",
    "      --train_batch_size=1 \\\n",
    "      --gradient_accumulation_steps=2 --gradient_checkpointing \\\n",
    "      --use_8bit_adam \\\n",
    "      --learning_rate=2e-6 \\\n",
    "      --lr_scheduler=\"constant\" \\\n",
    "      --lr_warmup_steps=0 \\\n",
    "      --max_train_steps={max_train_steps} \\\n",
    "      {theme_args}\n",
    "    \n",
    "    with open(f'{model_dir}/my_metadata.json', 'w') as f:\n",
    "        json.dump(dict(\n",
    "                model = model_dir,\n",
    "                dataset=dataset,\n",
    "                instance_prompt=instance_prompt,\n",
    "                class_prompt=class_prompt,\n",
    "                base=base,\n",
    "                max_train_steps=max_train_steps,\n",
    "                resolution=resolution,\n",
    "        ), f)"
   ]
  },
  {
   "cell_type": "code",
   "execution_count": null,
   "id": "614610ba",
   "metadata": {},
   "outputs": [],
   "source": [
    "from diffusers import DiffusionPipeline\n",
    "import torch\n",
    "import os\n",
    "import random\n",
    "from pathlib import Path\n",
    "\n",
    "def load_model(model_id):\n",
    "    \"\"\"\n",
    "    Loads the model into a DiffusionPipeline.\n",
    "    \"\"\"\n",
    "    pipe = DiffusionPipeline.from_pretrained(model_id, custom_pipeline=\"./lpw_stable_diffusion.py\", torch_dtype=torch.float16).to(\"cuda\")\n",
    "    pipe.modeldir = model_id\n",
    "    return pipe\n",
    "\n",
    "import os,base64\n",
    "\n",
    "def generate(model_id, _dirname, prompt, negative_prompt=None, seed=31337, steps=50, N=9, w=512, h=512, guidance_scale=9):\n",
    "    \"\"\"\n",
    "    Generates N number of images from the given model.\n",
    "    \"\"\"\n",
    "    generators = [torch.Generator(device=\"cuda\").manual_seed(seed + i*512) for i in range(N)]\n",
    "    if isinstance(model_id, str):\n",
    "        pipe = DiffusionPipeline.from_pretrained(model_id, custom_pipeline=\"./lpw_stable_diffusion.py\", torch_dtype=torch.float16).to(\"cuda\")\n",
    "    else:\n",
    "        pipe = model_id\n",
    "        model_id = pipe.modeldir\n",
    "    \n",
    "    images = pipe(prompt, negative_prompt=negative_prompt, num_inference_steps=steps, guidance_scale=guidance_scale, generator=generators, num_images_per_prompt=N, width=w, height=h).images\n",
    "    \n",
    "    dirname = f'{Path(model_id).name}/{base64.urlsafe_b64encode(os.urandom(16)).decode(\"ascii\")}'\n",
    "    !rm -rf {dirname} && mkdir -p {dirname}\n",
    "    with open(f'{dirname}/meta.json', 'w') as f:\n",
    "        json.dump(dict(\n",
    "            model_id = model_id,\n",
    "            prompt = prompt,\n",
    "            negative_prompt = negative_prompt,\n",
    "            seed = seed,\n",
    "            steps = steps,\n",
    "            w = w,\n",
    "            h = h,\n",
    "            guidance_scale = guidance_scale,\n",
    "        ), f)\n",
    "    for i,img in enumerate(images): img.save(f'{dirname}/{i}.jpg')\n",
    "    del pipe\n",
    "    return HTML(''.join([f'<img style=\"float:left; width: 32%; margin:5px;\" src=\"{dirname}/{i}.jpg?{random.randint(0,2**31)}\" />' for i in range(N)]))"
   ]
  },
  {
   "attachments": {},
   "cell_type": "markdown",
   "id": "1d4ef14d",
   "metadata": {},
   "source": [
    "## Training\n",
    "- This should take around ~15 minutes to fine-tune on your custom images\n",
    "- Go and grab a coffee; you deserve it!"
   ]
  },
  {
   "cell_type": "code",
   "execution_count": null,
   "id": "6a48e3b0",
   "metadata": {},
   "outputs": [],
   "source": [
    "\n",
    "train_model(\"train_imgs\")"
   ]
  },
  {
   "attachments": {},
   "cell_type": "markdown",
   "id": "80eb0706",
   "metadata": {},
   "source": [
    "## Best checkpoint?\n",
    "- We periodically save checkpoints while training.\n",
    "- Next, we try and figure it which checkpoint works best and generates images that look more like you."
   ]
  },
  {
   "cell_type": "code",
   "execution_count": null,
   "id": "8fe06759",
   "metadata": {},
   "outputs": [],
   "source": [
    "for chkpt in sorted(glob.glob(model_path+'/checkpoint-*')):\n",
    "    display(generate(chkpt, Path(chkpt).name, N=3,\n",
    "      prompt=\"beautiful portrait photo of sks young woman\",\n",
    "      negative_prompt=\"cartoon, 3d, (illustration:1.2), ((disfigured)), ((bad art)), ((deformed)), ((poorly drawn)), ((extra limbs)), ((close up)), ((b&w)), weird colors, blurry\"))\n",
    "    print(\"Checkpoint:\", chkpt)"
   ]
  },
  {
   "cell_type": "code",
   "execution_count": null,
   "id": "b25e11ce",
   "metadata": {
    "scrolled": true
   },
   "outputs": [],
   "source": [
    "for chkpt in sorted(glob.glob(model_path+'/checkpoint-*')):\n",
    "    display(generate(chkpt, Path(chkpt).name, N=3,\n",
    "      prompt=\"sks young woman, beautiful oil on canvas portrait\",\n",
    "      negative_prompt=\"cartoon, 3d, (illustration:1.2), ((disfigured)), ((bad art)), ((deformed)), ((poorly drawn)), ((extra limbs)), ((close up)), ((b&w)), weird colors, blurry\"))\n",
    "    print(\"Checkpoint:\", chkpt)"
   ]
  },
  {
   "cell_type": "code",
   "execution_count": null,
   "id": "7fdd1da5",
   "metadata": {},
   "outputs": [],
   "source": [
    "for chkpt in sorted(glob.glob(model_path+'/checkpoint-*')):\n",
    "    display(generate(chkpt, Path(chkpt).name, N=3,\n",
    "          prompt=\"(snthwve style:1) (nvinkpunk:0.7) sks young woman, (hallucinating colorful soap bubbles), by jeremy mann, by sandra chevrier, by dave mckean and richard avedon and maciej kuciara, punk rock, tank woman, high detailed, 8k, sharp focus, natural lighting\",\n",
    "      negative_prompt=\"cartoon, 3d, (illustration:1.2), ((disfigured)), ((bad art)), ((deformed)), ((poorly drawn)), ((extra limbs)), ((close up)), ((b&w)), weird colors, blurry\"))\n",
    "    print(\"Checkpoint:\", chkpt)"
   ]
  },
  {
   "cell_type": "code",
   "execution_count": null,
   "id": "a372dc16",
   "metadata": {},
   "outputs": [],
   "source": [
    "for chkpt in sorted(glob.glob(model_path+'/checkpoint-*')):\n",
    "    display(generate(chkpt, Path(chkpt).name, N=3,\n",
    "      prompt=\"sks young woman (snthwve style:1) (nvinkpunk:0.7), (hallucinating colorful soap bubbles), by jeremy mann, by sandra chevrier, by dave mckean and richard avedon and maciej kuciara, punk rock, tank girl, high detailed, 8k, sharp focus, natural lighting\",\n",
    "      negative_prompt=\"cartoon, 3d, (illustration:1.2), ((disfigured)), ((bad art)), ((deformed)), ((poorly drawn)), ((extra limbs)), ((close up)), ((b&w)), weird colors, blurry\"))\n",
    "    print(\"Checkpoint:\", chkpt)"
   ]
  },
  {
   "attachments": {},
   "cell_type": "markdown",
   "id": "8e79ea29",
   "metadata": {},
   "source": [
    "The above cells that generate images with all the saved checkpoint should help you figure out the best one. Add the checkpoint number to the below cell to use it in all the subsequent image generations.\n"
   ]
  },
  {
   "cell_type": "code",
   "execution_count": null,
   "id": "3e28e282",
   "metadata": {},
   "outputs": [],
   "source": [
    "# add the best checkpoint here\n",
    "best_checkpoint = 'checkpoint-'"
   ]
  },
  {
   "cell_type": "code",
   "execution_count": null,
   "id": "ec4f26bf",
   "metadata": {},
   "outputs": [],
   "source": [
    "model_path = model_path+'/'+best_checkpoint\n",
    "model = load_model(model_path)"
   ]
  },
  {
   "attachments": {},
   "cell_type": "markdown",
   "id": "63b9e2ac",
   "metadata": {},
   "source": [
    "## Weight factor\n",
    "The last thing to figure out is how much weight to assign to the prompt that we used to train, the next generates images with different weights and shows what works best"
   ]
  },
  {
   "cell_type": "code",
   "execution_count": null,
   "id": "319e1d1e",
   "metadata": {},
   "outputs": [],
   "source": [
    "for w in torch.linspace(0.8,1.5,6):\n",
    "    display(generate(model, f'weight-{w}', N=3, steps=100,\n",
    "      prompt=f\"(sks young woman:{w}) (snthwve style:1) (nvinkpunk:0.7), (hallucinating colorful soap bubbles), by jeremy mann, by sandra chevrier, by dave mckean and richard avedon and maciej kuciara, punk rock, tank girl, high detailed, 8k, sharp focus, natural lighting\",\n",
    "      negative_prompt=\"cartoon, 3d, (illustration:1.2), ((disfigured)), ((bad art)), ((deformed)), ((poorly drawn)), ((extra limbs)), ((close up)), ((b&w)), weird colors, blurry\"))\n",
    "    print(\"Weight:\", w)"
   ]
  },
  {
   "attachments": {},
   "cell_type": "markdown",
   "id": "bfd4bec0",
   "metadata": {},
   "source": [
    "## Start Painting\n",
    "Feel free to play with parameters that effect the generated images:\n",
    "- Add/remove words from the prompt, depending on how you want to improvise.\n",
    "- Change the number of steps. Generally, steps=50 works good enough.\n",
    "- Changing the seed also changes the results so feel free to change it any random number you like. It could be your lucky number as well."
   ]
  },
  {
   "cell_type": "markdown",
   "id": "f42eda2a",
   "metadata": {},
   "source": []
  },
  {
   "cell_type": "code",
   "execution_count": null,
   "id": "29750b7e",
   "metadata": {},
   "outputs": [],
   "source": [
    "# start with a simple prompt\n",
    "generate(model, \"self\", \"sks young woman snthwve style nvinkpunk, high detailed, 8k\")"
   ]
  },
  {
   "cell_type": "code",
   "execution_count": null,
   "metadata": {},
   "outputs": [],
   "source": [
    "# improvise on the prompt\n",
    "# add the weight which looked best in the above cell\n",
    "# and increase number of steps\n",
    "generate(model, \"self\", \"(sks young woman:0.94) snthwve style nvinkpunk, high detailed, 8k\", steps=100)"
   ]
  },
  {
   "cell_type": "code",
   "execution_count": null,
   "id": "1eceb53f",
   "metadata": {},
   "outputs": [],
   "source": [
    "# add more details to the prompt\n",
    "# add a negative prompt to remove artifacts\n",
    "generate(model, \"self\",\n",
    "         prompt=\"(sks young woman:0.94) as a beautiful god, snthwve style nvinkpunk (symmetry:1.1) (portrait of floral:1.05), (assassins creed style:0.8), pink and gold and opal color scheme, beautiful intricate filegrid facepaint, intricate, elegant, highly detailed, digital painting, artstation, concept art, smooth, sharp focus, illustration, art by greg rutkowski and alphonse mucha, 8k\",\n",
    "         negative_prompt=\"cartoon, 3d, ((disfigured)), ((bad art)), ((deformed)), ((poorly drawn)), ((extra limbs)), ((close up)), ((b&w)), weird colors, blurry\")"
   ]
  },
  {
   "attachments": {},
   "cell_type": "markdown",
   "id": "e4115c07",
   "metadata": {},
   "source": [
    "## Some examples"
   ]
  },
  {
   "cell_type": "code",
   "execution_count": null,
   "id": "2b4b7188",
   "metadata": {},
   "outputs": [],
   "source": [
    "generate(model, \"self\", steps=70,\n",
    "         prompt=\"(sks young woman:1.08) as a beautiful god, snthwve style nvinkpunk (symmetry:1.1) (portrait of floral:1.05), beautiful intricate filegrid facepaint, intricate, elegant, highly detailed, digital painting, artstation, concept art, smooth, sharp focus, illustration, art by greg rutkowski and alphonse mucha, 8k\",\n",
    "         negative_prompt=\"cartoon, 3d, ((disfigured)), ((bad art)), ((deformed)), ((poorly drawn)), ((extra limbs)), ((close up)), ((b&w)), weird colors, blurry\")"
   ]
  },
  {
   "cell_type": "code",
   "execution_count": null,
   "id": "7353a3a4",
   "metadata": {},
   "outputs": [],
   "source": [
    "generate(model_path, \"self\", steps=70,\n",
    "         prompt=\"(sks young woman:1.08), style of joemadureira (nvinkpunk:0.7) snthwve style award winning sexy half body portrait in a jacket and cargo pants with ombre navy blue teal hairstyle with head in motion and hair flying, paint splashes, splatter, outrun, vaporware, shaded flat illustration, digital art, trending on artstation, highly detailed, fine detail, intricate\",\n",
    "         negative_prompt=\"cartoon, ((closeup)), ((disfigured)), ((deformed)), ((poorly drawn)), ((extra limbs)), blurry\")"
   ]
  },
  {
   "cell_type": "code",
   "execution_count": null,
   "metadata": {},
   "outputs": [],
   "source": [
    "generate(model, \"self\",\n",
    "         prompt=\"snthwve style nvinkpunk close up portrait of a punk Julita young woman, punk rock, roller derby, tank girl, bubblegum, edgy, dangerous, high detailed, 8k, by jeremy mann, by sandra chevrier, by dave mckean and richard avedon and maciej kuciara\",\n",
    "         negative_prompt=\"cartoon, ((closeup)), ((disfigured)), ((deformed)), ((poorly drawn)), ((extra limbs)), blurry\")"
   ]
  },
  {
   "cell_type": "code",
   "execution_count": null,
   "id": "ec38eede",
   "metadata": {},
   "outputs": [],
   "source": [
    "generate(model, \"self\", steps=70,\n",
    "         prompt=\"half body portrait of sks young woman as a beautiful god, snthwve style nvinkpunk (symmetry:1.1), (assassins creed style:0.8), beautiful intricate filegrid facepaint, intricate, elegant, highly detailed, digital painting, artstation, concept art, smooth, sharp focus, illustration, art by greg rutkowski and alphonse mucha, 8k\",\n",
    "         negative_prompt=\"cartoon, 3d, ((disfigured)), ((bad art)), ((deformed)), ((poorly drawn)), ((extra limbs)), ((close up)), ((b&w)), weird colors, blurry\")"
   ]
  },
  {
   "attachments": {},
   "cell_type": "markdown",
   "id": "05541a8a",
   "metadata": {},
   "source": [
    "### Mixing styles from above pantings"
   ]
  },
  {
   "cell_type": "code",
   "execution_count": null,
   "id": "5bc4d02d",
   "metadata": {},
   "outputs": [],
   "source": [
    "generate(model, \"self\",\n",
    "         prompt=\"snthwve style nvinkpunk (symmetry:1.1) (half body portrait:1.1) of Julita young woman as a beautiful god, (assassins creed style:0.8), beautiful intricate filegrid facepaint, intricate, elegant, highly detailed, digital painting, artstation, concept art, smooth, sharp focus, illustration, art by greg rutkowski and alphonse mucha, 8k\",\n",
    "         negative_prompt=\"cartoon, 3d, ((disfigured)), ((bad art)), ((deformed)), ((poorly drawn)), ((extra limbs)), ((close up)), ((b&w)), weird colors, blurry\")"
   ]
  },
  {
   "cell_type": "code",
   "execution_count": null,
   "id": "fb0b3699",
   "metadata": {},
   "outputs": [],
   "source": [
    "generate(model, \"self\", steps=80,\n",
    "         prompt=\"(nvinkpunk:0.7) snthwve style award winning sexy half body portrait of (sks young woman:1.1) in a jacket and cargo pants with ombre navy blue teal hairstyle with head in motion and hair flying, paint splashes, splatter, outrun, vaporware, shaded flat illustration, digital art, trending on artstation, highly detailed, fine detail, intricate\",\n",
    "         negative_prompt=\"cartoon, 3d, ((disfigured)), ((bad art)), ((deformed)), ((poorly drawn)), ((extra limbs)), ((close up)), ((b&w)), weird colors, blurry\")"
   ]
  },
  {
   "cell_type": "code",
   "execution_count": null,
   "id": "cf7cd9b9",
   "metadata": {},
   "outputs": [],
   "source": [
    "generate(model, \"self\",\n",
    "         \"snthwve style nvinkpunk drunken beautiful Julita young woman, (hallucinating colorful soap bubbles), by jeremy mann, by sandra chevrier, by dave mckean and richard avedon and maciej kuciara, punk rock, tank girl, high detailed, 8k\",\n",
    "        negative_prompt=\"cartoon, 3d, ((disfigured)), ((bad art)), ((deformed)), ((poorly drawn)), ((extra limbs)), ((close up)), ((b&w)), weird colors, blurry\")"
   ]
  },
  {
   "cell_type": "code",
   "execution_count": null,
   "metadata": {},
   "outputs": [],
   "source": [
    "generate(model, \"self\", steps=60, guidance_scale=7,\n",
    "         prompt=\"snthwve style nvinkpunk (symmetry:1.1) (portrait of floral:1.05) a sks young woman as a beautiful god, (assassins creed style:0.8), pink and gold and opal color scheme, beautiful intricate filegrid facepaint, intricate, elegant, highly detailed, digital painting, artstation, concept art, smooth, sharp focus, illustration, art by greg rutkowski and alphonse mucha, 8k\",\n",
    "         negative_prompt=\"cartoon, 3d, ((disfigured)), ((bad art)), ((deformed)), ((poorly drawn)), ((extra limbs)), ((close up)), ((b&w)), weird colors, blurry\")"
   ]
  },
  {
   "attachments": {},
   "cell_type": "markdown",
   "id": "38d848d1",
   "metadata": {},
   "source": [
    "## Already have a prompt in mind?\n",
    "Paint your own"
   ]
  },
  {
   "cell_type": "code",
   "execution_count": null,
   "id": "6f07d6f5",
   "metadata": {},
   "outputs": [],
   "source": [
    "generate(model, \"self\",\n",
    "         prompt=\"\"\n",
    "         negative_prompt=\"cartoon, 3d, ((disfigured)), ((bad art)), ((deformed)), ((poorly drawn)), ((extra limbs)), ((close up)), ((b&w)), weird colors, blurry\")"
   ]
  },
  {
   "cell_type": "code",
   "execution_count": null,
   "id": "10bc8ff7",
   "metadata": {},
   "outputs": [],
   "source": []
  }
 ],
 "metadata": {
  "kernelspec": {
   "display_name": "diffusers",
   "language": "python",
   "name": "diffusers"
  },
  "language_info": {
   "codemirror_mode": {
    "name": "ipython",
    "version": 3
   },
   "file_extension": ".py",
   "mimetype": "text/x-python",
   "name": "python",
   "nbconvert_exporter": "python",
   "pygments_lexer": "ipython3",
   "version": "3.9.5"
  }
 },
 "nbformat": 4,
 "nbformat_minor": 5
}
