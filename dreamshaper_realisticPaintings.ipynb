{
 "cells": [
  {
   "cell_type": "code",
   "execution_count": null,
   "id": "81317cd4",
   "metadata": {},
   "outputs": [],
   "source": [
    "%load_ext autoreload\n",
    "%autoreload 2\n",
    "from matplotlib import pylab\n",
    "from smlai import *"
   ]
  },
  {
   "cell_type": "markdown",
   "id": "430b0d38",
   "metadata": {},
   "source": [
    "## Dreamshaper\n",
    "This is a model to make good portraits that do not look like cg or photos with heavy filters, but more like actual paintings. Can do great backgrounds and anime style characters.\n",
    "\n",
    "- We use the checkpoint download link from the model at [civit-ai here](https://civitai.com/models/4384/dreamshaper)\n",
    "- ```load_civit_ckpt``` with the link and a model name to save the downloaded model."
   ]
  },
  {
   "cell_type": "code",
   "execution_count": null,
   "id": "996f6e68",
   "metadata": {},
   "outputs": [],
   "source": [
    "ckpt_download_link = 'https://civitai.com/api/download/models/43888'\n",
    "ckpt_name = 'dreamshaper_5_baked_vae'\n",
    "model = load_civit_ckpt(ckpt_download_link, ckpt_name)"
   ]
  },
  {
   "cell_type": "markdown",
   "id": "086ce611",
   "metadata": {},
   "source": [
    "**Paint some backgrounds**"
   ]
  },
  {
   "cell_type": "code",
   "execution_count": null,
   "id": "a643451f",
   "metadata": {},
   "outputs": [],
   "source": [
    "generate(\n",
    "    model,\n",
    "    prompt='the start of something beautiful, digital, concept art, detailed illustration, 4k',\n",
    "    N=3)"
   ]
  },
  {
   "cell_type": "code",
   "execution_count": null,
   "id": "9105b4a5",
   "metadata": {},
   "outputs": [],
   "source": [
    "# with negativc prompt\n",
    "generate(\n",
    "    model,\n",
    "    prompt=\"the start of something beautiful, digital, concept art, detailed illustration, 4k, 8k\",\n",
    "    negative_prompt='3d, cartoon, lowres, bad anatomy, jpeg atrifact, blurry, ugly, low quality',\n",
    "    N=3)"
   ]
  },
  {
   "cell_type": "code",
   "execution_count": null,
   "id": "9206477e",
   "metadata": {},
   "outputs": [],
   "source": [
    "# upscale images\n",
    "generate(\n",
    "    model,\n",
    "    prompt=\"the start of something beautiful, digital, concept art, detailed illustration, 4k, 8k\",\n",
    "    negative_prompt='3d, cartoon, lowres, bad anatomy, jpeg atrifact, blurry, ugly, low quality',\n",
    "    N=3,\n",
    "    upscale=True)"
   ]
  },
  {
   "cell_type": "markdown",
   "id": "8a0cf9ee",
   "metadata": {},
   "source": [
    "A spacescape"
   ]
  },
  {
   "cell_type": "code",
   "execution_count": null,
   "id": "c5fee475",
   "metadata": {},
   "outputs": [],
   "source": [
    "generate(\n",
    "    model,\n",
    "    prompt=\"oil on matte canvas, scifi spacescape colony, intricate and highly detailed, rutkowski\",\n",
    "    N=3)"
   ]
  },
  {
   "cell_type": "code",
   "execution_count": null,
   "id": "afda0293",
   "metadata": {},
   "outputs": [],
   "source": [
    "# with negative prompt\n",
    "generate(\n",
    "    model,\n",
    "    prompt='oil on matte canvas, scifi spacescape colony, intricate and highly detailed, rutkowski',\n",
    "    negative_prompt='3d, cartoon, lowres, bad anatomy, jpeg atrifact, blurry, ugly, low quality',\n",
    "    N=3)"
   ]
  },
  {
   "cell_type": "markdown",
   "id": "13f683fa",
   "metadata": {},
   "source": [
    "**Negative Prompt**\n",
    "\n",
    "- We can easily generate good images by iteratively improvising our prompt.\n",
    "- Negative prompt is clearly helpful in improving the quality and removing artifacts."
   ]
  },
  {
   "cell_type": "markdown",
   "id": "54f2177c",
   "metadata": {},
   "source": [
    "### Detailed prompts\n",
    "Lets generate a high quality background with improvised prompts."
   ]
  },
  {
   "cell_type": "code",
   "execution_count": null,
   "id": "2753a786",
   "metadata": {},
   "outputs": [],
   "source": [
    "generate(\n",
    "    model,\n",
    "    prompt='The sound of silence, detailed illustration, digital art, overdetailed art, \\\n",
    "        hd, 4k, Dan Mumford, Krzysztof Maziarz, trending on artstation,',\n",
    "    negative_prompt='3d, cartoon, lowres, bad anatomy, text, error, fewer digits, cropped, worst quality, \\\n",
    "        low quality, normal quality, jpeg artifacts, signature, watermark, username, blurry, artist name, lowres',\n",
    "    N=3)"
   ]
  },
  {
   "cell_type": "markdown",
   "id": "0043e188",
   "metadata": {},
   "source": [
    "## Paint characters"
   ]
  },
  {
   "cell_type": "code",
   "execution_count": null,
   "id": "86f9d114",
   "metadata": {},
   "outputs": [],
   "source": [
    "generate(\n",
    "    model,\n",
    "    prompt=\"photorealistic photo of an evil hermit, masculine, villain\",\\\n",
    "    N=3)"
   ]
  },
  {
   "cell_type": "code",
   "execution_count": null,
   "id": "89ad195c",
   "metadata": {},
   "outputs": [],
   "source": [
    "# more details, improvising the prompt\n",
    "generate(\n",
    "    model,\n",
    "    prompt=\"photorealistic photo of an evil hermit, male, masculine, villain, medium and maroon hair, anti hero, \\\n",
    "        sinister, detailed face and body, professional oil painting, dramatic, cinematic\",\n",
    "    N=3)"
   ]
  },
  {
   "cell_type": "markdown",
   "id": "718f6fdf",
   "metadata": {},
   "source": [
    "**With negative prompt**\n",
    "\n",
    "With a negative prompt to remove artefacts."
   ]
  },
  {
   "cell_type": "code",
   "execution_count": null,
   "id": "33700c06",
   "metadata": {},
   "outputs": [],
   "source": [
    "# lets add some more face related keywords to remove artefacts from the above image\n",
    "generate(\n",
    "    model,\n",
    "    prompt=\"photorealistic photo of an evil hermit, male, masculine, villain, medium and maroon hair, anti hero, \\\n",
    "        sinister, detailed face and body, professional oil painting, dramatic, cinematic\",\n",
    "    negative_prompt=\"3d, cartoon, lowres, bad anatomy, text, error, fewer digits, cropped, worst quality, \\\n",
    "        low quality, normal quality, jpeg artifacts, signature, watermark, username, blurry, artist name, lowres, \\\n",
    "        bad art, poorly drawn face, body out of frame, mutated, extra limbs, extra legs, extra arms\",\n",
    "    N=3)"
   ]
  },
  {
   "cell_type": "code",
   "execution_count": null,
   "id": "5c4aca29",
   "metadata": {},
   "outputs": [],
   "source": [
    "# another character\n",
    "generate(\n",
    "    model,\n",
    "    prompt=\"photorealistic and cinematic scifi male armor, mandolorian helmet, scifi movie style, outdoors, \\\n",
    "        highest details, fine details\",\n",
    "    N=3)"
   ]
  },
  {
   "cell_type": "markdown",
   "id": "73d188fb",
   "metadata": {},
   "source": [
    "**With negative prompt**"
   ]
  },
  {
   "cell_type": "code",
   "execution_count": null,
   "id": "76d229f2",
   "metadata": {},
   "outputs": [],
   "source": [
    "generate(\n",
    "    model,\n",
    "    prompt=\"photorealistic and cinematic scifi male armor, mandolorian helmet, scifi movie style, outdoors, \\\n",
    "        highest details, fine details, 8k, ultra hd\",\n",
    "    negative_prompt=\"3d, cartoon, lowres, bad anatomy, text, error, fewer digits, cropped, worst quality, \\\n",
    "        low quality, normal quality, jpeg artifacts, signature, watermark, username, blurry, artist name, lowres, \\\n",
    "        bad art, poorly drawn face, body out of frame, mutated, extra limbs, extra legs, extra arms\",\n",
    "    N=3)"
   ]
  },
  {
   "cell_type": "code",
   "execution_count": null,
   "id": "aa6e7da7",
   "metadata": {
    "scrolled": true
   },
   "outputs": [],
   "source": [
    "generate(\n",
    "    model,\n",
    "    prompt=\"spiderman, hulk, 1man, photorealistic, cinematic, deviant and detailed art, high textures, \\\n",
    "        high resolution, dreamlikeart, 8k, highly detailed, digital art, realistic\",\n",
    "    N=3)"
   ]
  },
  {
   "cell_type": "code",
   "execution_count": null,
   "id": "b9593947",
   "metadata": {},
   "outputs": [],
   "source": [
    "# with detailed prompt and a negative prompt\n",
    "generate(\n",
    "    model,\n",
    "    prompt=\"spiderman, hulk, 1man, photorealistic, cinematic, deviant and detailed art, high textures, \\\n",
    "        high resolution, dreamlikeart, 8k, highly detailed, digital art, realistic\",\n",
    "    negative_prompt=\"3d, cartoon, lowres, bad anatomy, text, error, fewer digits, cropped, worst quality, \\\n",
    "        low quality, normal quality, jpeg artifacts, signature, watermark, username, blurry, artist name, lowres, \\\n",
    "        bad art, poorly drawn face, body out of frame, mutated, extra limbs, extra legs, extra arms,\\\n",
    "        imperfect, extra hands, bad hands,\",\n",
    "    N=3)"
   ]
  },
  {
   "cell_type": "markdown",
   "id": "4332fa83",
   "metadata": {},
   "source": [
    "Again, adding a negative prompt does improve the results so, consider adding it to your generation params after you improvise your prompts."
   ]
  },
  {
   "cell_type": "markdown",
   "id": "af006b2f",
   "metadata": {},
   "source": [
    "**Character with detailed Prompts**\n",
    "\n",
    "This prompt helps understand what language to use with model to paint amazing characters."
   ]
  },
  {
   "cell_type": "code",
   "execution_count": null,
   "id": "ea95532a",
   "metadata": {},
   "outputs": [],
   "source": [
    "generate(\n",
    "    model,\n",
    "    prompt=\"modelshoot style, close up, extremely detailed 8k wallpaper,\\\n",
    "        full shot body photo, beautiful artwork in the world, medieval armor,\\\n",
    "        professional majestic oil painting by Ed Blinkey, Atey Ghailan,by Jeremy Mann, Greg Manchess,\\\n",
    "        trending on ArtStation and CGSociety, Intricate, High Detail, Sharp, dramatic,\\\n",
    "        photorealistic painting by midjourney, rutkowski\",\n",
    "    negative_prompt=\"canvas frame, cartoon, 3d, disfigured, bad art, deformed, extra limbs,\\\n",
    "        close up, b&w, wierd colors, blurry, duplicate, morbid, mutilated, out of frame, extra fingers, \\\n",
    "        mutated hands, poorly drawn hands, poorly drawn face, mutation, deformed, ugly, blurry, bad anatomy,\\\n",
    "        bad proportions, extra limbs, cloned face, ugly, extra limbs, bad anatomy, gross proportions, \\\n",
    "        malformed limbs, missing arms, missing legs, extra arms, extra legs, mutated hands, fused fingers, \\\n",
    "        too many fingers, long neck, Photoshop, video game, ugly, tiling, deformed, cross-eye, body out of \\\n",
    "        frame, blurry, bad art, bad anatomy, 3d render\",\n",
    "    N=3,\n",
    "    upscale=True)"
   ]
  },
  {
   "cell_type": "markdown",
   "id": "ad753e6c",
   "metadata": {},
   "source": [
    "## Paint your own images\n",
    "- Start with a simple prompt\n",
    "- Improvise and add more details\n",
    "- Add a negative prompt(from the above examples) to remove artifacts and improve overall quality.\n",
    "- Set ```upscale=True``` once you have your final results from the diffusion model, to get higher resolution images"
   ]
  },
  {
   "cell_type": "code",
   "execution_count": null,
   "id": "09fbd6ce",
   "metadata": {},
   "outputs": [],
   "source": [
    "generate(\n",
    "    model,\n",
    "    prompt=\"\",\n",
    "    N=3,\n",
    "    upscale=False)"
   ]
  }
 ],
 "metadata": {
  "kernelspec": {
   "display_name": "diffusers",
   "language": "python",
   "name": "diffusers"
  },
  "language_info": {
   "codemirror_mode": {
    "name": "ipython",
    "version": 3
   },
   "file_extension": ".py",
   "mimetype": "text/x-python",
   "name": "python",
   "nbconvert_exporter": "python",
   "pygments_lexer": "ipython3",
   "version": "3.9.5"
  }
 },
 "nbformat": 4,
 "nbformat_minor": 5
}
