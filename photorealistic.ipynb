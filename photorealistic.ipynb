{
 "cells": [
  {
   "cell_type": "code",
   "execution_count": null,
   "id": "04473c6a",
   "metadata": {},
   "outputs": [],
   "source": [
    "%load_ext autoreload\n",
    "%autoreload 2\n",
    "from matplotlib import pylab\n",
    "from smlai import *"
   ]
  },
  {
   "cell_type": "markdown",
   "id": "c0384294",
   "metadata": {},
   "source": [
    "## ICBINP - \"I Can't Believe It's Not Photography\"\n",
    "\n",
    "[Civit model link](https://civitai.com/models/28059/icbinp-i-cant-believe-its-not-photography)\n",
    "\n",
    "This model generates photorealistic images. Even with a very simple prompt it can generate realistic images and with a detailed prompt it is even better. It seems to do very well with specified lighting characteristics in the prompt (e.g. \"volumetric lighting\"), and will give a fairly plain background unless specified in the prompt."
   ]
  },
  {
   "cell_type": "code",
   "execution_count": null,
   "id": "c5404bb3",
   "metadata": {},
   "outputs": [],
   "source": [
    "ckpt_link='https://civitai.com/api/download/models/53976'\n",
    "ckpt_name='ICantBelieveItsNotPhotography'\n",
    "model = load_civit_ckpt(ckpt_link, ckpt_name)"
   ]
  },
  {
   "cell_type": "markdown",
   "id": "9986573c",
   "metadata": {},
   "source": [
    "**An old Man**"
   ]
  },
  {
   "cell_type": "code",
   "execution_count": null,
   "id": "b03673a7",
   "metadata": {},
   "outputs": [],
   "source": [
    "generate(\n",
    "    model,\n",
    "    prompt=\"a close up portrait of an old man\",\n",
    "    N=3)"
   ]
  },
  {
   "cell_type": "markdown",
   "id": "be7af12a",
   "metadata": {},
   "source": [
    "Adding more information to the prompt"
   ]
  },
  {
   "cell_type": "code",
   "execution_count": null,
   "id": "84bf4d0d",
   "metadata": {},
   "outputs": [],
   "source": [
    "generate(\n",
    "    model,\n",
    "    prompt=\"a close up portrait of an old man with extreme details and high resolution 8k\",\n",
    "    N=3)"
   ]
  },
  {
   "cell_type": "code",
   "execution_count": null,
   "id": "42f5cc29",
   "metadata": {},
   "outputs": [],
   "source": [
    "# Negative Prompt\n",
    "# to remove artifacts\n",
    "generate(\n",
    "    model,\n",
    "    prompt=\"a close up portrait of an old man with extreme details and high resolution 8k\",\n",
    "    negative_prompt=\"blurry, 3d, cartoon\", \n",
    "    N=3)"
   ]
  },
  {
   "cell_type": "markdown",
   "id": "ec7c6ab0",
   "metadata": {},
   "source": [
    "Add more details to the negative prompt to make it more realistic."
   ]
  },
  {
   "cell_type": "code",
   "execution_count": null,
   "id": "394389c7",
   "metadata": {},
   "outputs": [],
   "source": [
    "generate(\n",
    "    model,\n",
    "    prompt=\"a close up portrait of an old man with extreme details and high resolution 8k\",\n",
    "    negative_prompt=\"blurry, logo, watermark, signature, cropped, out of frame, worst quality, low quality, \\\n",
    "        jpeg artifacts, poorly lit, overexposed, underexposed, glitch, error, out of focus, 3d, cartoon, \\\n",
    "        deformed iris, deformed pupils, morbid\",\n",
    "    N=3,\n",
    "    upscale=True)"
   ]
  },
  {
   "cell_type": "markdown",
   "id": "c4c195a7",
   "metadata": {},
   "source": [
    "**A muscle car**"
   ]
  },
  {
   "cell_type": "code",
   "execution_count": null,
   "id": "0d425edd",
   "metadata": {},
   "outputs": [],
   "source": [
    "generate(\n",
    "    model,\n",
    "    prompt=\"a muscle car\",\n",
    "    N=3)"
   ]
  },
  {
   "cell_type": "code",
   "execution_count": null,
   "id": "6f09f800",
   "metadata": {},
   "outputs": [],
   "source": [
    "# with more details in the prompt\n",
    "generate(\n",
    "    model,\n",
    "    prompt=\"a muscle car, dark, 8k, high resolution, gloomy, realistic, dramatic, sunset, vibrant, \\\n",
    "        sharp focus, photo realistic, intricate details, cyberpunk\",\n",
    "    N=3)"
   ]
  },
  {
   "cell_type": "code",
   "execution_count": null,
   "id": "37ec5b4e",
   "metadata": {},
   "outputs": [],
   "source": [
    "# with negative prompt to remove artifacts\n",
    "generate(\n",
    "    model,\n",
    "    prompt=\"a muscle car, dark, 8k, high resolution, gloomy, realistic, dramatic, sunset, vibrant, \\\n",
    "        sharp focus, photo realistic, intricate details, cyberpunk\",\n",
    "    negative_prompt=\"blurry, boring, sketch, signature, watermark, low res, poor quality , \\\n",
    "        low quality, cropped, nsfw, 3d, out of frame\",\n",
    "    N=3,\n",
    "    upscale=True)"
   ]
  },
  {
   "cell_type": "markdown",
   "id": "69b059c9",
   "metadata": {},
   "source": [
    "**A lone tree**"
   ]
  },
  {
   "cell_type": "code",
   "execution_count": null,
   "id": "fce19bd2",
   "metadata": {},
   "outputs": [],
   "source": [
    "generate(\n",
    "    model,\n",
    "    prompt=\"an oak tree besides an alpine lake\",\n",
    "    N=3)"
   ]
  },
  {
   "cell_type": "markdown",
   "id": "335097ea",
   "metadata": {},
   "source": [
    "Looks unrealistic? Lets add more details to our prompt"
   ]
  },
  {
   "cell_type": "code",
   "execution_count": null,
   "id": "e16f8756",
   "metadata": {},
   "outputs": [],
   "source": [
    "generate(\n",
    "    model,\n",
    "    prompt=\"an oak tree besides an alpine lake, extremely intirciate details, high resolution, 8k\",\n",
    "    N=3)"
   ]
  },
  {
   "cell_type": "code",
   "execution_count": null,
   "id": "cba20bc8",
   "metadata": {},
   "outputs": [],
   "source": [
    "# Negative prompt to remove artifacts\n",
    "generate(\n",
    "    model,\n",
    "    prompt=\"an oak tree besides an alpine lake, extremely intirciate details, high resolution, 8k\",\n",
    "    negative_prompt=\"blurry, logo, watermark, signature, cropped, out of frame, worst quality, low quality, \\\n",
    "        jpeg artifacts, poorly lit, overexposed, underexposed, glitch, error, out of focus, 3d, cartoon\",\n",
    "    N=3,\n",
    "    upscale=True)"
   ]
  },
  {
   "cell_type": "markdown",
   "id": "f82c8adc",
   "metadata": {},
   "source": [
    "## Generate your own Photos\n",
    "- Start with a simple prompt\n",
    "- Improvise and add more details\n",
    "- Add a negative prompt(from the above examples) to remove artifacts and improve overall quality.\n",
    "- Set ```upscale=True``` once you have your final results from the diffusion model to get higher resolution images"
   ]
  },
  {
   "cell_type": "code",
   "execution_count": null,
   "id": "041857b2",
   "metadata": {},
   "outputs": [],
   "source": [
    "# add your prompt and improvise\n",
    "\n",
    "generate(\n",
    "    model,\n",
    "    prompt=\"\",\n",
    "    N=3,\n",
    "    upscale=False)\n"
   ]
  }
 ],
 "metadata": {
  "kernelspec": {
   "display_name": "Python 3 (ipykernel)",
   "language": "python",
   "name": "python3"
  },
  "language_info": {
   "codemirror_mode": {
    "name": "ipython",
    "version": 3
   },
   "file_extension": ".py",
   "mimetype": "text/x-python",
   "name": "python",
   "nbconvert_exporter": "python",
   "pygments_lexer": "ipython3",
   "version": "3.9.5"
  }
 },
 "nbformat": 4,
 "nbformat_minor": 5
}
